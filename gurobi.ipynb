{
 "metadata": {
  "name": ""
 },
 "nbformat": 3,
 "nbformat_minor": 0,
 "worksheets": [
  {
   "cells": [
    {
     "cell_type": "code",
     "collapsed": false,
     "input": [
      "from gurobipy import Model, GRB, quicksum\n",
      "from jabr import build_constraint_matrix, convert_matrix_to_mosek\n",
      "from loadcase import load_case\n",
      "from numpy import real, imag"
     ],
     "language": "python",
     "metadata": {},
     "outputs": [],
     "prompt_number": 64
    },
    {
     "cell_type": "code",
     "collapsed": false,
     "input": [
      "#case = load_case('cases/case5_renumber_tree.m')s2 = 2**.5\n",
      "#case = load_case('cases/case15_v2.m')\n",
      "#case = load_case('cases/case85_v2.m')\n",
      "case = load_case('cases/case118_v2.m')\n",
      "case = load_case('cases/case_ieee30_tree.m')\n",
      "G, B = case.G, case.B\n",
      "P = real(case.demands)\n",
      "Q = imag(case.demands)\n",
      "branches = case.branch_list\n",
      "n = len(case.demands)\n",
      "v = case.vhat"
     ],
     "language": "python",
     "metadata": {},
     "outputs": [],
     "prompt_number": 88
    },
    {
     "cell_type": "code",
     "collapsed": false,
     "input": [
      "m = Model(\"jabr\")\n",
      "u = [m.addVar(name='u_%d'%i) for i in range(n)]\n",
      "R = {(i, j): m.addVar(name='R_%d_%d' % (i, j)) for i, j in branches}\n",
      "I = {(i, j): m.addVar(lb=-GRB.INFINITY, name='I_%d_%d' % (i, j)) for i, j in branches}\n",
      "for i, j in branches:\n",
      "    R[j, i] = R[i, j]\n",
      "    I[j, i] = I[i, j]\n",
      "m.update()\n",
      "for i, j in branches:\n",
      "    m.addQConstr(2*u[i]*u[j] >= R[i,j]*R[i,j] + I[i,j]*I[i,j], 'cone_%d_%d' % (i, j))\n",
      "k = lambda i: (j for j in B[i, :].nonzero()[1])\n",
      "s = lambda i, j: 1 if i < j else -1\n",
      "for i in range(1, n):\n",
      "    m.addConstr(-s2*u[i]*G[i, :].sum() + quicksum(G[i,j]*R[i,j] + B[i,j]*s(i,j)*I[i,j] for j in k(i)) == P[i],\n",
      "                'real_flow_%d_%d' % (i, j))\n",
      "    m.addConstr(s2*u[i]*B[i, :].sum() + quicksum(-B[i,j]*R[i,j] + G[i,j]*s(i,j)*I[i,j] for j in k(i)) == Q[i],\n",
      "                'reac_flow_%d_%d' % (i, j))\n",
      "m.addConstr(u[0] == v*v/s2, 'u0');\n",
      "m.setObjective(quicksum(R[i,j] for i, j in branches), sense=GRB.MAXIMIZE)\n",
      "m.params.outputFlag = 0\n",
      "m.optimize()\n",
      "print(m.status)"
     ],
     "language": "python",
     "metadata": {},
     "outputs": [
      {
       "output_type": "stream",
       "stream": "stdout",
       "text": [
        "2\n"
       ]
      }
     ],
     "prompt_number": 89
    },
    {
     "cell_type": "code",
     "collapsed": false,
     "input": [
      "for i, x in enumerate(u):\n",
      "    y = x.getAttr('x')\n",
      "    print('%2d %f' % (i, (s2*y)**.5))"
     ],
     "language": "python",
     "metadata": {},
     "outputs": [
      {
       "output_type": "stream",
       "stream": "stdout",
       "text": [
        " 0 1.060000\n",
        " 1 1.045000\n",
        " 2 0.904861\n",
        " 3 0.878983\n",
        " 4 1.010000\n",
        " 5 0.869600\n",
        " 6 0.851762\n",
        " 7 0.897541\n",
        " 8 0.820666\n",
        " 9 0.771404\n",
        "10 0.882024\n",
        "11 0.874230\n",
        "12 0.901621\n",
        "13 0.860452\n",
        "14 0.854973\n",
        "15 0.866262\n",
        "16 0.761097\n",
        "17 0.848580\n",
        "18 0.736682\n",
        "19 0.744239\n",
        "20 0.752055\n",
        "21 0.748352\n",
        "22 0.847363\n",
        "23 0.717617\n",
        "24 0.814000\n",
        "25 0.791659\n",
        "26 0.824986\n",
        "27 0.860235\n",
        "28 0.813854\n",
        "29 0.761914\n"
       ]
      }
     ],
     "prompt_number": 90
    },
    {
     "cell_type": "raw",
     "metadata": {},
     "source": [
      "[ 1.      0.8533  0.9847  0.8729  0.8533]\n",
      "\n",
      "      0.85333\n",
      "      0.98467\n",
      "      0.87295\n",
      "      0.85333\n",
      "            1"
     ]
    },
    {
     "cell_type": "raw",
     "metadata": {},
     "source": [
      "        u = M.variable(\"u\", n, Domain.greaterThan(0.0))\n",
      "        R = M.variable(\"R\", n-1, Domain.greaterThan(0.0))\n",
      "        I = M.variable(\"I\", n-1, Domain.unbounded())\n",
      "\n",
      "        expr = lambda x: x.asExpr()\n",
      "\n",
      "        def cone_constraint(fbus, tbus, branch):\n",
      "            x = Expr.vstack(map(expr, [u.index(fbus), u.index(tbus), R.index(branch), I.index(branch)]))\n",
      "            M.constraint(\"cone%d_%d\" % (fbus, tbus), x, Domain.inRotatedQCone())\n",
      "\n",
      "        M.constraint(\"u0\",  u.index(0).asExpr(), Domain.equalsTo(v*v/sqrt(2)))\n",
      "        for branch, (fbus, tbus) in enumerate(branches):\n",
      "            cone_constraint(fbus, tbus, branch)\n",
      "        M.constraint(\"flow_real\", Expr.mul(Areal, Expr.vstack(u, R, I)), Domain.equalsTo(P))\n",
      "        M.constraint(\"flow_reac\", Expr.mul(Areac, Expr.vstack(u, R, I)), Domain.equalsTo(Q))\n",
      "\n",
      "        M.objective(\"maxRsum\", ObjectiveSense.Maximize, Expr.sum(R))"
     ]
    }
   ],
   "metadata": {}
  }
 ]
}