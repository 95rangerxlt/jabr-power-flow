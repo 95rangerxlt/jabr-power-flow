{
 "metadata": {
  "name": "",
  "signature": "sha256:df8d39198ff37a93d8eff61d03fa1afdf56e7b51d40cf26ed71a3b58158f2c07"
 },
 "nbformat": 3,
 "nbformat_minor": 0,
 "worksheets": [
  {
   "cells": [
    {
     "cell_type": "code",
     "collapsed": false,
     "input": [
      "from gurobipy import Model, GRB, quicksum\n",
      "from jabr import build_constraint_matrix, convert_matrix_to_mosek\n",
      "from loadcase import load_case\n",
      "from numpy import real, imag, array, sqrt"
     ],
     "language": "python",
     "metadata": {},
     "outputs": [],
     "prompt_number": 22
    },
    {
     "cell_type": "code",
     "collapsed": false,
     "input": [
      "#case = load_case('cases/case5_renumber_tree.m')\n",
      "case = load_case('cases/case14_tree.m')\n",
      "#case = load_case('cases/case15_v2.m')\n",
      "#case = load_case('cases/case85_v2.m')\n",
      "#case = load_case('cases/case118_v2.m')\n",
      "#case = load_case('cases/case_ieee30_tree.m')\n",
      "#case = load_case('cases/case_ieee30_tree_v2.m')\n",
      "G, B = case.G, case.B\n",
      "P = real(case.demands)\n",
      "Q = imag(case.demands)\n",
      "branches = case.branch_list\n",
      "n = len(case.demands)\n",
      "vhat = case.vhat\n",
      "s2 = 2**.5\n",
      "gens = {}"
     ],
     "language": "python",
     "metadata": {},
     "outputs": [],
     "prompt_number": 23
    },
    {
     "cell_type": "code",
     "collapsed": false,
     "input": [
      "#external_gens = {2:1.045, 5:1.01, 8:1.01, 11:1.082, 13:1.071}\n",
      "external_gens = {2:1.045, 3:1.01, 6:1.07, 8:1.09}\n",
      "#external_gens = {1: 0.955, 4: 0.998, 6: 0.990, 8: 1.015, 10: 1.050, 12: 0.990, 15: 0.970, 18: 0.973, 19: 0.962, 24: 0.992, 25: 1.050, 26: 1.015, 27: 0.968, 31: 0.967, 32: 0.963, 34: 0.984, 36: 0.980, 40: 0.970, 42: 0.985, 46: 1.005, 49: 1.025, 54: 0.955, 55: 0.952, 56: 0.954, 59: 0.985, 61: 0.995, 62: 0.998, 65: 1.005, 66: 1.050, 69: 1.035, 70: 0.984, 72: 0.980, 73: 0.991, 74: 0.958, 76: 0.943, 77: 1.006, 80: 1.040, 85: 0.985, 87: 1.015, 89: 1.005, 90: 0.985, 91: 0.980, 92: 0.990, 99: 1.010, 100: 1.017, 103: 1.010, 104: 0.971, 105: 0.965, 107: 0.952, 110: 0.973, 111: 0.980, 112: 0.975, 113: 0.993, 116: 1.005}\n",
      "gens = {case.i2e.index(g):v for g, v in external_gens.iteritems()}\n",
      "for gen, v in sorted(gens.iteritems()):\n",
      "    print('%3d %5.3f' % (gen, v))"
     ],
     "language": "python",
     "metadata": {},
     "outputs": [
      {
       "output_type": "stream",
       "stream": "stdout",
       "text": [
        "  1 1.045\n",
        "  2 1.010\n",
        "  5 1.070\n",
        "  7 1.090\n"
       ]
      }
     ],
     "prompt_number": 24
    },
    {
     "cell_type": "code",
     "collapsed": false,
     "input": [
      "m = Model(\"jabr\")\n",
      "u = [m.addVar(name='u_%d'%i) for i in range(n)]\n",
      "R = {(i, j): m.addVar(name='R_%d_%d' % (i, j)) for i, j in branches}\n",
      "I = {(i, j): m.addVar(lb=-GRB.INFINITY, name='I_%d_%d' % (i, j)) for i, j in branches}\n",
      "for i, j in branches:\n",
      "    R[j, i] = R[i, j]\n",
      "    I[j, i] = I[i, j]\n",
      "m.update()\n",
      "m.addConstr(u[0] == vhat*vhat/s2, 'u0')\n",
      "for gen, v in gens.iteritems():\n",
      "    m.addConstr(u[gen] == v*v/s2, 'u%d' % gen)\n",
      "for i, j in branches:\n",
      "    m.addQConstr(2*u[i]*u[j] >= R[i,j]*R[i,j] + I[i,j]*I[i,j], 'cone_%d_%d' % (i, j))\n",
      "k = lambda i: (j for j in B[i, :].nonzero()[1])\n",
      "s = lambda i, j: 1 if i < j else -1\n",
      "for i in range(1, n):\n",
      "    m.addConstr(-s2*u[i]*G[i, :].sum() + quicksum(G[i,j]*R[i,j] + B[i,j]*s(i,j)*I[i,j] for j in k(i)) == P[i],\n",
      "                'real_flow_%d_%d' % (i, j))\n",
      "    if i in gens:\n",
      "        continue\n",
      "    m.addConstr(s2*u[i]*B[i, :].sum() + quicksum(-B[i,j]*R[i,j] + G[i,j]*s(i,j)*I[i,j] for j in k(i)) == Q[i],\n",
      "                'reac_flow_%d_%d' % (i, j))\n",
      "m.setObjective(quicksum(R[i,j] for i, j in branches), sense=GRB.MAXIMIZE)\n",
      "m.params.outputFlag = 0\n",
      "#m.setParam('BarConvTol', 1e-1)\n",
      "#m.setParam('DualReductions', 0)\n",
      "#m.setParam('BarHomogeneous', 1)\n",
      "m.optimize()\n",
      "print(m.status)"
     ],
     "language": "python",
     "metadata": {},
     "outputs": [
      {
       "output_type": "stream",
       "stream": "stdout",
       "text": [
        "2\n"
       ]
      }
     ],
     "prompt_number": 25
    },
    {
     "cell_type": "code",
     "collapsed": false,
     "input": [
      "for i, x in enumerate(u):\n",
      "    y = x.getAttr('x')\n",
      "    print('%2d %f %.3f %d' % (i, (s2*y)**.5, y, 1 if i in gens else 0))"
     ],
     "language": "python",
     "metadata": {},
     "outputs": [
      {
       "output_type": "stream",
       "stream": "stdout",
       "text": [
        " 0 1.060000 0.795 0\n",
        " 1 1.045000 0.772 1\n",
        " 2 1.010000 0.721 1\n",
        " 3 0.987370 0.689 0\n",
        " 4 0.997318 0.703 0\n",
        " 5 1.070000 0.810 1\n",
        " 6 1.009382 0.720 0\n",
        " 7 1.090000 0.840 1\n",
        " 8 0.975697 0.673 0\n",
        " 9 0.967655 0.662 0\n",
        "10 1.063496 0.800 0\n",
        "11 1.058978 0.793 0\n",
        "12 1.054283 0.786 0\n",
        "13 0.940518 0.625 0\n"
       ]
      }
     ],
     "prompt_number": 26
    },
    {
     "cell_type": "code",
     "collapsed": false,
     "input": [
      "ans = {}\n",
      "for i, x in enumerate(u):\n",
      "    y = x.getAttr('x')\n",
      "    ans[case.i2e[i]] = y\n",
      "for i in sorted(ans.keys()):\n",
      "    y = ans[i]\n",
      "    print('%f' % (s2*y)**.5, end=' ')"
     ],
     "language": "python",
     "metadata": {},
     "outputs": [
      {
       "output_type": "stream",
       "stream": "stdout",
       "text": [
        "0.955000 0.980472 0.961572 0.998000 1.000238 0.990000 0.988690 1.015000 1.023043 1.050000 0.980390 0.990000 0.960078 0.986182 0.970000 0.948927 0.980796 0.973000 0.962000 0.919712 0.926202 0.945818 0.992908 0.992000 1.050000 1.015000 0.968000 0.948590 0.938225 0.987268 0.967000 0.963000 0.958661 0.984000 0.973965 0.980000 0.982412 0.978610 0.960911 0.970000 0.953767 0.985000 0.887454 0.920242 0.944878 1.005000 1.002062 1.015978 1.025000 1.011785 0.977020 0.970174 0.933770 0.955000 0.952000 0.954000 1.001990 0.971617 0.985000 0.992461 0.995000 0.998000 0.985913 0.992243 1.005000 1.050000 1.036778 1.010163 1.035000 0.984000 0.986261 0.980000 0.991000 0.958000 0.954734 0.943000 1.006000 1.000077 1.011476 1.040000 1.020536 0.963628 0.962438 0.976994 0.985000 0.983921 1.015000 0.990531 1.005000 0.985000 0.980000 0.990000 0.980754 0.967956 0.947796 0.997081 1.029095 1.023089 1.010000 1.017000 0.952092 0.975669 1.010000 0.971000 0.965000 0.946465 0.952000 0.959310 0.957528 0.973000 0.980000 0.975000 0.993000 0.959951 0.958697 1.005000 0.971351 0.941883 "
       ]
      }
     ],
     "prompt_number": 31
    },
    {
     "cell_type": "code",
     "collapsed": false,
     "input": [
      "for p, q in zip(P, Q):\n",
      "    print('%7.3f %7.3f' % (p, q))"
     ],
     "language": "python",
     "metadata": {},
     "outputs": [
      {
       "output_type": "stream",
       "stream": "stdout",
       "text": [
        "  0.000   0.000\n",
        "-18.300  -5.184\n",
        "  2.400   1.200\n",
        "  7.600   1.600\n",
        " 94.200 -13.590\n",
        "  0.000   0.000\n",
        " 22.800  10.900\n",
        " 30.000 -68.944\n",
        "  0.000   0.000\n",
        "  5.800   2.000\n",
        "  0.000 -26.019\n",
        " 11.200   7.500\n",
        "  0.000 -17.640\n",
        "  6.200   1.600\n",
        "  8.200   2.500\n",
        "  3.500   1.800\n",
        "  9.000   5.800\n",
        "  3.200   0.900\n",
        "  9.500   3.400\n",
        "  2.200   0.700\n",
        " 17.500  11.200\n",
        "  0.000   0.000\n",
        "  3.200   1.600\n",
        "  8.700   6.700\n",
        "  0.000   0.000\n",
        "  3.500   2.300\n",
        "  0.000   0.000\n",
        "  0.000   0.000\n",
        "  2.400   0.900\n",
        " 10.600   1.900\n"
       ]
      }
     ],
     "prompt_number": 16
    },
    {
     "cell_type": "code",
     "collapsed": false,
     "input": [
      "from numpy.testing import assert_allclose"
     ],
     "language": "python",
     "metadata": {},
     "outputs": [],
     "prompt_number": 28
    },
    {
     "cell_type": "code",
     "collapsed": false,
     "input": [
      "x = [1,2,3]\n",
      "y = [2,2,3]\n",
      "assert_allclose(x, y)"
     ],
     "language": "python",
     "metadata": {},
     "outputs": [
      {
       "ename": "AssertionError",
       "evalue": "\nNot equal to tolerance rtol=1e-07, atol=0\n\n(mismatch 100.0%)\n x: array([1, 2, 3])\n y: array([2, 2, 3])",
       "output_type": "pyerr",
       "traceback": [
        "\u001b[0;31m---------------------------------------------------------------------------\u001b[0m\n\u001b[0;31mAssertionError\u001b[0m                            Traceback (most recent call last)",
        "\u001b[0;32m<ipython-input-30-f5f2ad004fa7>\u001b[0m in \u001b[0;36m<module>\u001b[0;34m()\u001b[0m\n\u001b[1;32m      1\u001b[0m \u001b[0mx\u001b[0m \u001b[0;34m=\u001b[0m \u001b[0;34m[\u001b[0m\u001b[0;36m1\u001b[0m\u001b[0;34m,\u001b[0m\u001b[0;36m2\u001b[0m\u001b[0;34m,\u001b[0m\u001b[0;36m3\u001b[0m\u001b[0;34m]\u001b[0m\u001b[0;34m\u001b[0m\u001b[0m\n\u001b[1;32m      2\u001b[0m \u001b[0my\u001b[0m \u001b[0;34m=\u001b[0m \u001b[0;34m[\u001b[0m\u001b[0;36m2\u001b[0m\u001b[0;34m,\u001b[0m\u001b[0;36m2\u001b[0m\u001b[0;34m,\u001b[0m\u001b[0;36m3\u001b[0m\u001b[0;34m]\u001b[0m\u001b[0;34m\u001b[0m\u001b[0m\n\u001b[0;32m----> 3\u001b[0;31m \u001b[0massert_allclose\u001b[0m\u001b[0;34m(\u001b[0m\u001b[0mx\u001b[0m\u001b[0;34m,\u001b[0m \u001b[0my\u001b[0m\u001b[0;34m)\u001b[0m\u001b[0;34m\u001b[0m\u001b[0m\n\u001b[0m",
        "\u001b[0;32m/Library/Python/2.7/site-packages/numpy-1.8.0-py2.7-macosx-10.8-intel.egg/numpy/testing/utils.pyc\u001b[0m in \u001b[0;36massert_allclose\u001b[0;34m(actual, desired, rtol, atol, err_msg, verbose)\u001b[0m\n\u001b[1;32m   1179\u001b[0m     \u001b[0mheader\u001b[0m \u001b[0;34m=\u001b[0m \u001b[0;34m'Not equal to tolerance rtol=%g, atol=%g'\u001b[0m \u001b[0;34m%\u001b[0m \u001b[0;34m(\u001b[0m\u001b[0mrtol\u001b[0m\u001b[0;34m,\u001b[0m \u001b[0matol\u001b[0m\u001b[0;34m)\u001b[0m\u001b[0;34m\u001b[0m\u001b[0m\n\u001b[1;32m   1180\u001b[0m     assert_array_compare(compare, actual, desired, err_msg=str(err_msg),\n\u001b[0;32m-> 1181\u001b[0;31m                          verbose=verbose, header=header)\n\u001b[0m\u001b[1;32m   1182\u001b[0m \u001b[0;34m\u001b[0m\u001b[0m\n\u001b[1;32m   1183\u001b[0m \u001b[0;32mdef\u001b[0m \u001b[0massert_array_almost_equal_nulp\u001b[0m\u001b[0;34m(\u001b[0m\u001b[0mx\u001b[0m\u001b[0;34m,\u001b[0m \u001b[0my\u001b[0m\u001b[0;34m,\u001b[0m \u001b[0mnulp\u001b[0m\u001b[0;34m=\u001b[0m\u001b[0;36m1\u001b[0m\u001b[0;34m)\u001b[0m\u001b[0;34m:\u001b[0m\u001b[0;34m\u001b[0m\u001b[0m\n",
        "\u001b[0;32m/Library/Python/2.7/site-packages/numpy-1.8.0-py2.7-macosx-10.8-intel.egg/numpy/testing/utils.pyc\u001b[0m in \u001b[0;36massert_array_compare\u001b[0;34m(comparison, x, y, err_msg, verbose, header)\u001b[0m\n\u001b[1;32m    642\u001b[0m                                 names=('x', 'y'))\n\u001b[1;32m    643\u001b[0m             \u001b[0;32mif\u001b[0m \u001b[0;32mnot\u001b[0m \u001b[0mcond\u001b[0m \u001b[0;34m:\u001b[0m\u001b[0;34m\u001b[0m\u001b[0m\n\u001b[0;32m--> 644\u001b[0;31m                 \u001b[0;32mraise\u001b[0m \u001b[0mAssertionError\u001b[0m\u001b[0;34m(\u001b[0m\u001b[0mmsg\u001b[0m\u001b[0;34m)\u001b[0m\u001b[0;34m\u001b[0m\u001b[0m\n\u001b[0m\u001b[1;32m    645\u001b[0m     \u001b[0;32mexcept\u001b[0m \u001b[0mValueError\u001b[0m \u001b[0;32mas\u001b[0m \u001b[0me\u001b[0m\u001b[0;34m:\u001b[0m\u001b[0;34m\u001b[0m\u001b[0m\n\u001b[1;32m    646\u001b[0m         \u001b[0;32mimport\u001b[0m \u001b[0mtraceback\u001b[0m\u001b[0;34m\u001b[0m\u001b[0m\n",
        "\u001b[0;31mAssertionError\u001b[0m: \nNot equal to tolerance rtol=1e-07, atol=0\n\n(mismatch 100.0%)\n x: array([1, 2, 3])\n y: array([2, 2, 3])"
       ]
      }
     ],
     "prompt_number": 30
    }
   ],
   "metadata": {}
  }
 ]
}