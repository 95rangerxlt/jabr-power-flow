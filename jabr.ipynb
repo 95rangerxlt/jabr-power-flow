{
 "metadata": {
  "name": ""
 },
 "nbformat": 3,
 "nbformat_minor": 0,
 "worksheets": [
  {
   "cells": [
    {
     "cell_type": "code",
     "collapsed": false,
     "input": [
      "import mosek.fusion\n",
      "from mosek.fusion import *\n",
      "from mosek.array import *\n",
      "from jabr import z2y\n",
      "import numpy as np\n",
      "from numpy import array, sqrt\n",
      "from math import sin, cos, asin, pi"
     ],
     "language": "python",
     "metadata": {},
     "outputs": [],
     "prompt_number": 4
    },
    {
     "cell_type": "markdown",
     "metadata": {},
     "source": [
      "#Two bus\n",
      "\n",
      "$G_0$ -- $L_1$\n",
      "\n",
      "$V_0 = 1.0$\n",
      "\n",
      "$P_1, Q_1 = 1.0, 0.0$\n",
      "\n",
      "$x,r = .02, .2$\n",
      "\n",
      "Find $\\theta_{01}$, $P_0,Q_0$, $P_{01}$"
     ]
    },
    {
     "cell_type": "code",
     "collapsed": false,
     "input": [
      "r, x = .02, .2 # impedance and resistance, from matpower\n",
      "g, b = z2y(r, x) # convert to susceptance and conductance"
     ],
     "language": "python",
     "metadata": {},
     "outputs": [],
     "prompt_number": 5
    },
    {
     "cell_type": "markdown",
     "metadata": {},
     "source": [
      "###Jabr notation\n",
      "\n",
      "###New variables\n",
      "\n",
      "$u_i = V_i^2/\\sqrt{2}$\n",
      "\n",
      "$R_{ij} = V_i V_j \\cos \\theta_{ij} $\n",
      "\n",
      "$I_{ij} = V_i V_j \\sin \\theta_{ij} $\n",
      "\n",
      "###Power flow equations\n",
      "\n",
      "<span style='color:red'>There is an error in the Jabr paper</span>\n",
      "\n",
      "$P_{ij} = G_{ij} (\\sqrt{2} u_i - R_{ij}) - B_{ij} I_{ij} $\n",
      "\n",
      "$Q_{ij} = -B_{ij} (\\sqrt{2} u_i - R_{ij}) - G_{ij} I_{ij} $\n",
      "\n",
      "$2 u_i u_j = R_{ij}^2 + I_{ij}^2$\n",
      "\n",
      "###Power injection constraints\n",
      "\n",
      "$-\\sum P_{ij} = -\\sqrt{2} u_i \\sum G_{ij} + \\sum (G_{ij}R_{ij} + B_{ij}I_{ij}) = P_{L_i} $ (6)\n",
      "\n",
      "$-\\sum Q_{ij} = \\sqrt{2} u_i \\sum B_{ij} + \\sum (-B_{ij}R_{ij} + G_{ij}I_{ij}) = Q_{L_i} $ (7)\n",
      "\n",
      "###Objective\n",
      "\n",
      "$ \\max \\sum R_{ij} $ subject to\n",
      "\n",
      "* (6) and (7) for $i=2,3,...,n$\n",
      "* $2u_iu_j \\geq R^2_{ij}+I^2_{ij}$\n",
      "* $u_1 = V_1^2/\\sqrt{2}$\n",
      "* $u_i \\geq 0$\n",
      "* $R_{ij} \\geq 0$"
     ]
    },
    {
     "cell_type": "markdown",
     "metadata": {},
     "source": [
      "###Play with the matpower solution, see if it checks out"
     ]
    },
    {
     "cell_type": "code",
     "collapsed": false,
     "input": [
      "p0, q0 = 1.02183668596211, .218366859631327\n",
      "p1, q1 = -1, 0\n",
      "t0, t1 = 0, -12.0626868887798/180*np.pi\n",
      "t = t0-t1\n",
      "print(t)\n",
      "v0, v1 = 1, .957021365673087"
     ],
     "language": "python",
     "metadata": {},
     "outputs": [
      {
       "output_type": "stream",
       "stream": "stdout",
       "text": [
        "0.210533602846\n"
       ]
      }
     ],
     "prompt_number": 91
    },
    {
     "cell_type": "code",
     "collapsed": false,
     "input": [
      "def u(v):\n",
      "    return v**2/sqrt(2)\n",
      "def R(v_i, v_j, t_ij):\n",
      "    return v_i*v_j*cos(t_ij)\n",
      "def I(v_i, v_j, t_ij):\n",
      "    return v_i*v_j*sin(t_ij)"
     ],
     "language": "python",
     "metadata": {},
     "outputs": [],
     "prompt_number": 14
    },
    {
     "cell_type": "code",
     "collapsed": false,
     "input": [
      "r1, i1 = R(v1, v0, -t), I(v1, v0, -t)\n",
      "2*u(v0)*u(v1), r1**2 + i1**2"
     ],
     "language": "python",
     "metadata": {},
     "outputs": [
      {
       "metadata": {},
       "output_type": "pyout",
       "prompt_number": 15,
       "text": [
        "(0.91588989435478041, 0.9158898943547806)"
       ]
      }
     ],
     "prompt_number": 15
    },
    {
     "cell_type": "code",
     "collapsed": false,
     "input": [
      "A = np.array([ [0., g*sqrt(2),-g,-b], [0, -b*sqrt(2),b,-g] ])\n",
      "x = np.array([1/sqrt(2), u(v1), r1, i1])\n",
      "A.dot(x)"
     ],
     "language": "python",
     "metadata": {},
     "outputs": [
      {
       "metadata": {},
       "output_type": "pyout",
       "prompt_number": 16,
       "text": [
        "array([ -1.00000000e+00,   1.32605038e-12])"
       ]
      }
     ],
     "prompt_number": 16
    },
    {
     "cell_type": "code",
     "collapsed": false,
     "input": [
      "g*(sqrt(2)*u(v0)-R(v0,v1,t)) - b*I(v0,v1,t)"
     ],
     "language": "python",
     "metadata": {},
     "outputs": [
      {
       "metadata": {},
       "output_type": "pyout",
       "prompt_number": 17,
       "text": [
        "1.0218366859621082"
       ]
      }
     ],
     "prompt_number": 17
    },
    {
     "cell_type": "code",
     "collapsed": false,
     "input": [
      "-b*(sqrt(2)*u(v0)-R(v0,v1,t)) - g*I(v0,v1,t)"
     ],
     "language": "python",
     "metadata": {},
     "outputs": [
      {
       "metadata": {},
       "output_type": "pyout",
       "prompt_number": 18,
       "text": [
        "0.21836685963132813"
       ]
      }
     ],
     "prompt_number": 18
    },
    {
     "cell_type": "code",
     "collapsed": false,
     "input": [
      "g*(sqrt(2)*u(v1)-R(v1,v0,t1-t0)) - b*I(v1,v0,t1-t0)"
     ],
     "language": "python",
     "metadata": {},
     "outputs": [
      {
       "metadata": {},
       "output_type": "pyout",
       "prompt_number": 19,
       "text": [
        "-0.99999999999884281"
       ]
      }
     ],
     "prompt_number": 19
    },
    {
     "cell_type": "code",
     "collapsed": false,
     "input": [
      "-b*(sqrt(2)*u(v1)-R(v1,v0,t1-t0)) - g*I(v1,v0,t1-t0)"
     ],
     "language": "python",
     "metadata": {},
     "outputs": [
      {
       "metadata": {},
       "output_type": "pyout",
       "prompt_number": 20,
       "text": [
        "1.3263556919440589e-12"
       ]
      }
     ],
     "prompt_number": 20
    },
    {
     "cell_type": "code",
     "collapsed": false,
     "input": [
      "2*u(v0)*u(v1), R(v0,v1,t)**2+I(v0,v1,t)**2"
     ],
     "language": "python",
     "metadata": {},
     "outputs": [
      {
       "metadata": {},
       "output_type": "pyout",
       "prompt_number": 21,
       "text": [
        "(0.91588989435478041, 0.9158898943547806)"
       ]
      }
     ],
     "prompt_number": 21
    },
    {
     "cell_type": "code",
     "collapsed": false,
     "input": [
      "u(v0), sqrt(sqrt(2)*u(v0)),u(v1), sqrt(sqrt(2)*u(v1))"
     ],
     "language": "python",
     "metadata": {},
     "outputs": [
      {
       "metadata": {},
       "output_type": "pyout",
       "prompt_number": 22,
       "text": [
        "(0.70710678118654746, 1.0, 0.64763195511849592, 0.95702136567308704)"
       ]
      }
     ],
     "prompt_number": 22
    },
    {
     "cell_type": "markdown",
     "metadata": {},
     "source": [
      "#Do it"
     ]
    },
    {
     "cell_type": "code",
     "collapsed": false,
     "input": [
      "A = DenseMatrix([ [0., g*sqrt(2),-g,-b], [0, -b*sqrt(2),b,-g] ])\n",
      "rhs = [-1.,0]\n",
      "def jabr():\n",
      "    with Model('jabr') as M:\n",
      "        u = M.variable(\"u\", 2, Domain.greaterThan(0.0))\n",
      "        R = M.variable(\"R\", 1, Domain.greaterThan(0.0))\n",
      "        I = M.variable(\"I\", 1, Domain.unbounded())\n",
      "        x = Expr.vstack(u,R,I)\n",
      "        M.objective(\"maxRsum\", ObjectiveSense.Maximize, Expr.sum(Expr.vstack([R.asExpr()])))\n",
      "        M.constraint(\"u0\",  u.index(0).asExpr(), Domain.equalsTo(1/sqrt(2)))\n",
      "        M.constraint(\"flow\",  Expr.mul(A, x), Domain.equalsTo(rhs))\n",
      "        M.constraint(\"cone\", x, Domain.inRotatedQCone())\n",
      "        M.solve()\n",
      "        return {'u': u.level(), 'R': R.level(), 'I': I.level()}"
     ],
     "language": "python",
     "metadata": {},
     "outputs": [],
     "prompt_number": 23
    },
    {
     "cell_type": "code",
     "collapsed": false,
     "input": [
      "ans = jabr()\n",
      "print(ans)\n",
      "sqrt(sqrt(2)*np.array(ans['u']))"
     ],
     "language": "python",
     "metadata": {},
     "outputs": [
      {
       "output_type": "stream",
       "stream": "stdout",
       "text": [
        "{'I': [-0.19999999926201242], 'R': [0.9358898990099811], 'u': [0.7071067811865475, 0.6476319610715834]}\n"
       ]
      },
      {
       "metadata": {},
       "output_type": "pyout",
       "prompt_number": 24,
       "text": [
        "array([ 1.        ,  0.95702137])"
       ]
      }
     ],
     "prompt_number": 24
    },
    {
     "cell_type": "code",
     "collapsed": false,
     "input": [
      "A = DenseMatrix([ [0., g*sqrt(2),-g,-b], [0, -b*sqrt(2),b,-g] ])\n",
      "rhs = [-1.,0]\n",
      "M = Model('jabr')\n",
      "u = M.variable(\"u\", 2, Domain.greaterThan(0.0))\n",
      "R = M.variable(\"R\", 1, Domain.greaterThan(0.0))\n",
      "I = M.variable(\"I\", 1, Domain.unbounded())\n",
      "x = Expr.vstack(u,R,I)\n",
      "M.objective(\"maxRsum\", ObjectiveSense.Maximize, Expr.sum(Expr.vstack([R.asExpr()])))\n",
      "M.constraint(\"u0\",  u.index(0).asExpr(), Domain.equalsTo(1/sqrt(2)))\n",
      "M.constraint(\"flow\",  Expr.mul(A, x), Domain.equalsTo(rhs))\n",
      "M.constraint(\"cone\", x, Domain.inRotatedQCone())"
     ],
     "language": "python",
     "metadata": {},
     "outputs": [
      {
       "metadata": {},
       "output_type": "pyout",
       "prompt_number": 34,
       "text": [
        "<mosek.fusion.ConicConstraint instance at 0x1138cc290>"
       ]
      }
     ],
     "prompt_number": 34
    },
    {
     "cell_type": "code",
     "collapsed": false,
     "input": [
      "M.solve()"
     ],
     "language": "python",
     "metadata": {},
     "outputs": []
    },
    {
     "cell_type": "code",
     "collapsed": false,
     "input": [
      "{'u': u.level(), 'R': R.level(), 'I': I.level()}"
     ],
     "language": "python",
     "metadata": {},
     "outputs": [
      {
       "metadata": {},
       "output_type": "pyout",
       "prompt_number": 26,
       "text": [
        "{'I': [-0.19999999926201242],\n",
        " 'R': [0.9358898990099811],\n",
        " 'u': [0.7071067811865475, 0.6476319610715834]}"
       ]
      }
     ],
     "prompt_number": 26
    },
    {
     "cell_type": "raw",
     "metadata": {},
     "source": [
      "{'I': [-0.19999999926201242],\n",
      " 'R': [0.9358898990099811],\n",
      " 'u': [0.7071067811865475, 0.6476319610715834]}"
     ]
    },
    {
     "cell_type": "markdown",
     "metadata": {},
     "source": [
      "#Now for the 5 bus case"
     ]
    },
    {
     "cell_type": "markdown",
     "metadata": {},
     "source": [
      "Renumber the buses, matpower style, so there is an internal and external numbering. Internal goes from 0 to N-1, starting at the root and BFSing from there.\n",
      "\n",
      "the x 'Expr' variables can be in a dictionary indexed by bus number pairs (i,j)"
     ]
    },
    {
     "cell_type": "code",
     "collapsed": false,
     "input": [
      "from scipy.sparse import coo_matrix, dok_matrix"
     ],
     "language": "python",
     "metadata": {},
     "outputs": [],
     "prompt_number": 149
    },
    {
     "cell_type": "code",
     "collapsed": false,
     "input": [
      "x = dok_matrix((3,3), dtype=np.complex64)\n",
      "x[1,2] = 1.+2j"
     ],
     "language": "python",
     "metadata": {},
     "outputs": [],
     "prompt_number": 218
    },
    {
     "cell_type": "code",
     "collapsed": false,
     "input": [
      "arr = array([[ 0.0,1.40021144789,-0.990099009901,9.90099009901 ],[ 0,14.0021144789,-9.90099009901,-0.990099009901 ]])\n",
      "arr"
     ],
     "language": "python",
     "metadata": {},
     "outputs": [
      {
       "metadata": {},
       "output_type": "pyout",
       "prompt_number": 158,
       "text": [
        "array([[  0.        ,   1.40021145,  -0.99009901,   9.9009901 ],\n",
        "       [  0.        ,  14.00211448,  -9.9009901 ,  -0.99009901]])"
       ]
      }
     ],
     "prompt_number": 158
    },
    {
     "cell_type": "code",
     "collapsed": false,
     "input": [
      "arr_sparse = dok_matrix(arr)\n",
      "def for_mosek(arr):\n",
      "    a = arr.tocoo()\n",
      "    rows, cols = a.nonzero()\n",
      "    vals = a.data\n",
      "    return rows.tolist(), cols.tolist(), vals.tolist()\n",
      "zip(*for_mosek(arr_sparse))"
     ],
     "language": "python",
     "metadata": {},
     "outputs": [
      {
       "metadata": {},
       "output_type": "pyout",
       "prompt_number": 165,
       "text": [
        "[(0, 1, 1.40021144789),\n",
        " (1, 2, -9.90099009901),\n",
        " (1, 3, -0.990099009901),\n",
        " (0, 3, 9.90099009901),\n",
        " (1, 1, 14.0021144789),\n",
        " (0, 2, -0.990099009901)]"
       ]
      }
     ],
     "prompt_number": 165
    },
    {
     "cell_type": "code",
     "collapsed": false,
     "input": [
      "arr_sparse[0,0] = 999\n",
      "zip(*for_mosek(arr_sparse))"
     ],
     "language": "python",
     "metadata": {},
     "outputs": [
      {
       "metadata": {},
       "output_type": "pyout",
       "prompt_number": 166,
       "text": [
        "[(0, 1, 1.40021144789),\n",
        " (1, 2, -9.90099009901),\n",
        " (1, 3, -0.990099009901),\n",
        " (0, 3, 9.90099009901),\n",
        " (1, 1, 14.0021144789),\n",
        " (0, 0, 999.0),\n",
        " (0, 2, -0.990099009901)]"
       ]
      }
     ],
     "prompt_number": 166
    },
    {
     "cell_type": "code",
     "collapsed": true,
     "input": [
      "rows, cols, vals = for_mosek(arr_sparse)\n",
      "nnz = arr_sparse.nnz\n",
      "print(rows)\n",
      "print(cols)\n",
      "print(vals)\n",
      "print(nnz)"
     ],
     "language": "python",
     "metadata": {},
     "outputs": [
      {
       "output_type": "stream",
       "stream": "stdout",
       "text": [
        "[0, 1, 1, 0, 1, 0, 0]\n",
        "[1, 2, 3, 3, 1, 0, 2]\n",
        "[1.40021144789, -9.90099009901, -0.990099009901, 9.90099009901, 14.0021144789, 999.0, -0.990099009901]\n",
        "7\n"
       ]
      }
     ],
     "prompt_number": 168
    },
    {
     "cell_type": "code",
     "collapsed": false,
     "input": [
      "Matrix.sparse(2, 4, rows, cols, vals).toString()"
     ],
     "language": "python",
     "metadata": {},
     "outputs": [
      {
       "metadata": {},
       "output_type": "pyout",
       "prompt_number": 170,
       "text": [
        "'SparseMatrix(2,4, [0,0,999.0),[0,1,1.40021144789],[0,2,-0.990099009901],[0,3,9.90099009901],[1,1,14.0021144789],[1,2,-9.90099009901],[1,3,-0.990099009901] ]'"
       ]
      }
     ],
     "prompt_number": 170
    },
    {
     "cell_type": "code",
     "collapsed": false,
     "input": [
      "r, x = .01, .1 # impedance and resistance, from matpower\n",
      "g, b = z2y(r, x) # convert to susceptance and conductance"
     ],
     "language": "python",
     "metadata": {},
     "outputs": [],
     "prompt_number": 14
    },
    {
     "cell_type": "code",
     "collapsed": false,
     "input": [
      "def jabr():\n",
      "    A1 = DenseMatrix([ [0., g*sqrt(2),-g,-b], [0, -b*sqrt(2),b,-g] ])\n",
      "    A2 = DenseMatrix([ [0., 3*g*sqrt(2),-g,-b, 0,0,-g,b, 0,0,-g,b], \n",
      "                       [0.,-3*b*sqrt(2), b,-g, 0,0, b,g, 0,0, b,g] ])\n",
      "    A3 = DenseMatrix([ [0., g*sqrt(2),-g,-b], [0, -b*sqrt(2),b,-g] ])\n",
      "    A4 = DenseMatrix([ [0., g*sqrt(2),-g,-b], [0, -b*sqrt(2),b,-g] ])\n",
      "    rhs = [-1.,0]\n",
      "    with Model('jabr') as M:\n",
      "        u = M.variable(\"u\", 5, Domain.greaterThan(0.0))\n",
      "        R = M.variable(\"R\", 4, Domain.greaterThan(0.0))\n",
      "        I = M.variable(\"I\", 4, Domain.unbounded())\n",
      "        \n",
      "        expr = lambda x: x.asExpr()\n",
      "        x01 = Expr.vstack(map(expr, [u.index(0), u.index(1), R.index(0), I.index(0)]))\n",
      "        x02 = Expr.vstack(map(expr, [u.index(0), u.index(2), R.index(1), I.index(1)]))\n",
      "        x23 = Expr.vstack(map(expr, [u.index(2), u.index(3), R.index(2), I.index(2)]))\n",
      "        x24 = Expr.vstack(map(expr, [u.index(2), u.index(4), R.index(3), I.index(3)]))\n",
      "        \n",
      "        M.constraint(\"u0\",  u.index(0).asExpr(), Domain.equalsTo(1/sqrt(2)))\n",
      "        \n",
      "        M.constraint(\"cone01\", x01, Domain.inRotatedQCone())\n",
      "        M.constraint(\"cone02\", x02, Domain.inRotatedQCone())\n",
      "        M.constraint(\"cone23\", x23, Domain.inRotatedQCone())\n",
      "        M.constraint(\"cone24\", x24, Domain.inRotatedQCone())\n",
      "        \n",
      "        M.constraint(\"flow1\",  Expr.mul(A1, x01), Domain.equalsTo(rhs))\n",
      "        M.constraint(\"flow2\",  Expr.mul(A2, Expr.vstack(x02,x23,x24)), Domain.equalsTo(rhs))\n",
      "        M.constraint(\"flow3\",  Expr.mul(A3, x23), Domain.equalsTo(rhs))\n",
      "        M.constraint(\"flow4\",  Expr.mul(A4, x24), Domain.equalsTo(rhs))\n",
      "    \n",
      "        M.objective(\"maxRsum\", ObjectiveSense.Maximize, Expr.sum(R))\n",
      "        M.solve()\n",
      "        return {'u': u.level(), 'R': R.level(), 'I': I.level()}"
     ],
     "language": "python",
     "metadata": {},
     "outputs": [],
     "prompt_number": 180
    },
    {
     "cell_type": "markdown",
     "metadata": {},
     "source": [
      "Need: \n",
      "\n",
      "1. sparse susceptance matrix\n",
      "2. bus demands\n",
      "\n",
      "For each bus $i$:\n",
      "\n",
      "Real matrices: Areal = [Ureal Rreal Ireal]\n",
      "\n",
      "* Ureal(i-1, i) = $\\sum g_j \\cdot \\sqrt{2} $ for each connected branch $j$\n",
      "* Rreal(i,j) $= -g_j \\cdot R_j $ for each connected branch $j$\n",
      "* Ireal(i,j) $= b_j \\cdot R_j $ for each *outgoing* branch $j$\n",
      "* Ireal(i,j) $= -b_j \\cdot R_j $ for each *incoming* branch $j$\n",
      "\n",
      "Reactive matrices: Areac = [Ureac Rreac Ireac]\n",
      "\n",
      "* Ureac(i-1, i) = $\\sum -b_j \\cdot \\sqrt{2} $ for each connected branch $j$\n",
      "* Rreac(i,j) $= b_j \\cdot R_j $ for each connected branch $j$\n",
      "* Ireac(i,j) $= g_j \\cdot R_j $ for each *outgoing* branch $j$\n",
      "* Ireac(i,j) $= -g_j \\cdot R_j $ for each *incoming* branch $j$"
     ]
    },
    {
     "cell_type": "code",
     "collapsed": false,
     "input": [
      "from loadcase import load_case\n",
      "d, s, v, i2e = load_case('case5_renumber_tree.m')\n",
      "d, s, v, i2e"
     ],
     "language": "python",
     "metadata": {},
     "outputs": [
      {
       "metadata": {},
       "output_type": "pyout",
       "prompt_number": 221,
       "text": [
        "([0j, (1+0j), (1+0j), (1+0j), (1+0j)],\n",
        " <5x5 sparse matrix of type '<type 'numpy.complex64'>'\n",
        "\twith 8 stored elements in Dictionary Of Keys format>,\n",
        " 1.0,\n",
        " [5, 1, 2, 3, 4])"
       ]
      }
     ],
     "prompt_number": 221
    },
    {
     "cell_type": "code",
     "collapsed": false,
     "input": [
      "r, x = .01, .1\n",
      "g, b = z2y(r, x)\n",
      "n = 5\n",
      "Ghat = dok_matrix((n, n))\n",
      "keys = [(0, 2), (0, 3), (1, 3), (3, 4)]\n",
      "for i, j in keys:\n",
      "    Ghat[i, j] = g\n",
      "    Ghat[j, i] = g"
     ],
     "language": "python",
     "metadata": {},
     "outputs": [],
     "prompt_number": 44
    },
    {
     "cell_type": "code",
     "collapsed": false,
     "input": [
      "r, x = .01, .1\n",
      "g, b = z2y(r, x)\n",
      "S2 = 2**.5\n",
      "Ureal = dok_matrix(\n",
      "    [[0.,  g*S2,       0,     0,     0],\n",
      "     [0.,     0,  3*g*S2,     0,     0],\n",
      "     [0.,     0,       0,  g*S2,     0],\n",
      "     [0.,     0,       0,     0,  g*S2]])"
     ],
     "language": "python",
     "metadata": {},
     "outputs": [],
     "prompt_number": 26
    },
    {
     "cell_type": "code",
     "collapsed": false,
     "input": [
      "Ghat[1, 0]"
     ],
     "language": "python",
     "metadata": {},
     "outputs": [
      {
       "metadata": {},
       "output_type": "pyout",
       "prompt_number": 47,
       "text": [
        "0.0"
       ]
      }
     ],
     "prompt_number": 47
    },
    {
     "cell_type": "code",
     "collapsed": false,
     "input": [
      "Rreal = dok_matrix(\n",
      "    [[-g,  0,  0,  0],\n",
      "     [0,  -g, -g, -g],\n",
      "     [0,   0, -g,  0],\n",
      "     [0,   0,  0, -g]])\n",
      "for i in range(5):\n",
      "    print(Ghat[i,:].nonzero()[1])"
     ],
     "language": "python",
     "metadata": {},
     "outputs": [
      {
       "output_type": "stream",
       "stream": "stdout",
       "text": [
        "[3 2]\n",
        "[3]\n",
        "[0]\n",
        "[1 0 4]\n",
        "[3]\n"
       ]
      }
     ],
     "prompt_number": 45
    },
    {
     "cell_type": "code",
     "collapsed": false,
     "input": [
      "%load_ext autoreload\n",
      "%autoreload 2"
     ],
     "language": "python",
     "metadata": {},
     "outputs": [],
     "prompt_number": 5
    },
    {
     "cell_type": "code",
     "collapsed": false,
     "input": [
      "from loadcase import load_case\n",
      "from numpy.testing import assert_almost_equal\n",
      "c = '/Users/srharnett/Dropbox/power/jabr-power-flow/case5_renumber_tree.m'\n",
      "c = load_case(c)"
     ],
     "language": "python",
     "metadata": {},
     "outputs": [],
     "prompt_number": 131
    },
    {
     "cell_type": "code",
     "collapsed": false,
     "input": [
      "assert_almost_equal?"
     ],
     "language": "python",
     "metadata": {},
     "outputs": [],
     "prompt_number": 132
    },
    {
     "cell_type": "code",
     "collapsed": false,
     "input": [
      "from jabr import build_U_matrix, z2y\n",
      "from scipy.sparse import dok_matrix"
     ],
     "language": "python",
     "metadata": {},
     "outputs": [],
     "prompt_number": 24
    },
    {
     "cell_type": "code",
     "collapsed": false,
     "input": [
      "Uhat = build_U_matrix(G).todense()"
     ],
     "language": "python",
     "metadata": {},
     "outputs": [],
     "prompt_number": 27
    },
    {
     "cell_type": "code",
     "collapsed": false,
     "input": [
      "assert_almost_equal(Uhat, Ureal.todense())"
     ],
     "language": "python",
     "metadata": {},
     "outputs": [
      {
       "ename": "AssertionError",
       "evalue": "\nArrays are not almost equal to 7 decimals\n\n(mismatch 10.0%)\n x: matrix([[ 0.        ,  1.40021145,  0.        ,  0.        ,  0.        ],\n        [ 0.        ,  0.        ,  1.40021145,  0.        ,  0.        ],\n        [ 0.        ,  0.        ,  0.        ,  4.20063434,  0.        ],\n        [ 0.        ,  0.        ,  0.        ,  0.        ,  1.40021145]])\n y: matrix([[ 0.        ,  1.40021145,  0.        ,  0.        ,  0.        ],\n        [ 0.        ,  0.        ,  4.20063434,  0.        ,  0.        ],\n        [ 0.        ,  0.        ,  0.        ,  1.40021145,  0.        ],\n        [ 0.        ,  0.        ,  0.        ,  0.        ,  1.40021145]])",
       "output_type": "pyerr",
       "traceback": [
        "\u001b[0;31m---------------------------------------------------------------------------\u001b[0m\n\u001b[0;31mAssertionError\u001b[0m                            Traceback (most recent call last)",
        "\u001b[0;32m<ipython-input-28-3d075cdaeecc>\u001b[0m in \u001b[0;36m<module>\u001b[0;34m()\u001b[0m\n\u001b[0;32m----> 1\u001b[0;31m \u001b[0massert_almost_equal\u001b[0m\u001b[0;34m(\u001b[0m\u001b[0mUhat\u001b[0m\u001b[0;34m,\u001b[0m \u001b[0mUreal\u001b[0m\u001b[0;34m.\u001b[0m\u001b[0mtodense\u001b[0m\u001b[0;34m(\u001b[0m\u001b[0;34m)\u001b[0m\u001b[0;34m)\u001b[0m\u001b[0;34m\u001b[0m\u001b[0m\n\u001b[0m",
        "\u001b[0;32m/Library/Python/2.7/site-packages/numpy-1.8.0-py2.7-macosx-10.8-intel.egg/numpy/testing/utils.pyc\u001b[0m in \u001b[0;36massert_almost_equal\u001b[0;34m(actual, desired, decimal, err_msg, verbose)\u001b[0m\n\u001b[1;32m    452\u001b[0m     \u001b[0;32mif\u001b[0m \u001b[0misinstance\u001b[0m\u001b[0;34m(\u001b[0m\u001b[0mactual\u001b[0m\u001b[0;34m,\u001b[0m \u001b[0;34m(\u001b[0m\u001b[0mndarray\u001b[0m\u001b[0;34m,\u001b[0m \u001b[0mtuple\u001b[0m\u001b[0;34m,\u001b[0m \u001b[0mlist\u001b[0m\u001b[0;34m)\u001b[0m\u001b[0;34m)\u001b[0m\u001b[0;31m \u001b[0m\u001b[0;31m\\\u001b[0m\u001b[0;34m\u001b[0m\u001b[0m\n\u001b[1;32m    453\u001b[0m             \u001b[0;32mor\u001b[0m \u001b[0misinstance\u001b[0m\u001b[0;34m(\u001b[0m\u001b[0mdesired\u001b[0m\u001b[0;34m,\u001b[0m \u001b[0;34m(\u001b[0m\u001b[0mndarray\u001b[0m\u001b[0;34m,\u001b[0m \u001b[0mtuple\u001b[0m\u001b[0;34m,\u001b[0m \u001b[0mlist\u001b[0m\u001b[0;34m)\u001b[0m\u001b[0;34m)\u001b[0m\u001b[0;34m:\u001b[0m\u001b[0;34m\u001b[0m\u001b[0m\n\u001b[0;32m--> 454\u001b[0;31m         \u001b[0;32mreturn\u001b[0m \u001b[0massert_array_almost_equal\u001b[0m\u001b[0;34m(\u001b[0m\u001b[0mactual\u001b[0m\u001b[0;34m,\u001b[0m \u001b[0mdesired\u001b[0m\u001b[0;34m,\u001b[0m \u001b[0mdecimal\u001b[0m\u001b[0;34m,\u001b[0m \u001b[0merr_msg\u001b[0m\u001b[0;34m)\u001b[0m\u001b[0;34m\u001b[0m\u001b[0m\n\u001b[0m\u001b[1;32m    455\u001b[0m     \u001b[0;32mtry\u001b[0m\u001b[0;34m:\u001b[0m\u001b[0;34m\u001b[0m\u001b[0m\n\u001b[1;32m    456\u001b[0m         \u001b[0;31m# If one of desired/actual is not finite, handle it specially here:\u001b[0m\u001b[0;34m\u001b[0m\u001b[0;34m\u001b[0m\u001b[0m\n",
        "\u001b[0;32m/Library/Python/2.7/site-packages/numpy-1.8.0-py2.7-macosx-10.8-intel.egg/numpy/testing/utils.pyc\u001b[0m in \u001b[0;36massert_array_almost_equal\u001b[0;34m(x, y, decimal, err_msg, verbose)\u001b[0m\n\u001b[1;32m    809\u001b[0m         \u001b[0;32mreturn\u001b[0m \u001b[0maround\u001b[0m\u001b[0;34m(\u001b[0m\u001b[0mz\u001b[0m\u001b[0;34m,\u001b[0m \u001b[0mdecimal\u001b[0m\u001b[0;34m)\u001b[0m \u001b[0;34m<=\u001b[0m \u001b[0;36m10.0\u001b[0m\u001b[0;34m**\u001b[0m\u001b[0;34m(\u001b[0m\u001b[0;34m-\u001b[0m\u001b[0mdecimal\u001b[0m\u001b[0;34m)\u001b[0m\u001b[0;34m\u001b[0m\u001b[0m\n\u001b[1;32m    810\u001b[0m     assert_array_compare(compare, x, y, err_msg=err_msg, verbose=verbose,\n\u001b[0;32m--> 811\u001b[0;31m              header=('Arrays are not almost equal to %d decimals' % decimal))\n\u001b[0m\u001b[1;32m    812\u001b[0m \u001b[0;34m\u001b[0m\u001b[0m\n\u001b[1;32m    813\u001b[0m \u001b[0;32mdef\u001b[0m \u001b[0massert_array_less\u001b[0m\u001b[0;34m(\u001b[0m\u001b[0mx\u001b[0m\u001b[0;34m,\u001b[0m \u001b[0my\u001b[0m\u001b[0;34m,\u001b[0m \u001b[0merr_msg\u001b[0m\u001b[0;34m=\u001b[0m\u001b[0;34m''\u001b[0m\u001b[0;34m,\u001b[0m \u001b[0mverbose\u001b[0m\u001b[0;34m=\u001b[0m\u001b[0mTrue\u001b[0m\u001b[0;34m)\u001b[0m\u001b[0;34m:\u001b[0m\u001b[0;34m\u001b[0m\u001b[0m\n",
        "\u001b[0;32m/Library/Python/2.7/site-packages/numpy-1.8.0-py2.7-macosx-10.8-intel.egg/numpy/testing/utils.pyc\u001b[0m in \u001b[0;36massert_array_compare\u001b[0;34m(comparison, x, y, err_msg, verbose, header)\u001b[0m\n\u001b[1;32m    642\u001b[0m                                 names=('x', 'y'))\n\u001b[1;32m    643\u001b[0m             \u001b[0;32mif\u001b[0m \u001b[0;32mnot\u001b[0m \u001b[0mcond\u001b[0m \u001b[0;34m:\u001b[0m\u001b[0;34m\u001b[0m\u001b[0m\n\u001b[0;32m--> 644\u001b[0;31m                 \u001b[0;32mraise\u001b[0m \u001b[0mAssertionError\u001b[0m\u001b[0;34m(\u001b[0m\u001b[0mmsg\u001b[0m\u001b[0;34m)\u001b[0m\u001b[0;34m\u001b[0m\u001b[0m\n\u001b[0m\u001b[1;32m    645\u001b[0m     \u001b[0;32mexcept\u001b[0m \u001b[0mValueError\u001b[0m \u001b[0;32mas\u001b[0m \u001b[0me\u001b[0m\u001b[0;34m:\u001b[0m\u001b[0;34m\u001b[0m\u001b[0m\n\u001b[1;32m    646\u001b[0m         \u001b[0;32mimport\u001b[0m \u001b[0mtraceback\u001b[0m\u001b[0;34m\u001b[0m\u001b[0m\n",
        "\u001b[0;31mAssertionError\u001b[0m: \nArrays are not almost equal to 7 decimals\n\n(mismatch 10.0%)\n x: matrix([[ 0.        ,  1.40021145,  0.        ,  0.        ,  0.        ],\n        [ 0.        ,  0.        ,  1.40021145,  0.        ,  0.        ],\n        [ 0.        ,  0.        ,  0.        ,  4.20063434,  0.        ],\n        [ 0.        ,  0.        ,  0.        ,  0.        ,  1.40021145]])\n y: matrix([[ 0.        ,  1.40021145,  0.        ,  0.        ,  0.        ],\n        [ 0.        ,  0.        ,  4.20063434,  0.        ,  0.        ],\n        [ 0.        ,  0.        ,  0.        ,  1.40021145,  0.        ],\n        [ 0.        ,  0.        ,  0.        ,  0.        ,  1.40021145]])"
       ]
      }
     ],
     "prompt_number": 28
    },
    {
     "cell_type": "code",
     "collapsed": false,
     "input": [
      "S2*np.imag(susceptances[2,:])"
     ],
     "language": "python",
     "metadata": {},
     "outputs": [
      {
       "metadata": {},
       "output_type": "pyout",
       "prompt_number": 277,
       "text": [
        "0.0"
       ]
      }
     ],
     "prompt_number": 277
    },
    {
     "cell_type": "code",
     "collapsed": false,
     "input": [
      "s_dict = {(0, 1): (499.9131600798035-1526.3086523179554j),\n",
      "          (0, 4): (102.58974549701888-423.4983682334831j),\n",
      "          (1, 2): (113.50191923073959-478.1863151757718j),\n",
      "          (3, 4): (684.0980661495671-2157.855398169159j),\n",
      "          (3, 6): -478.1943381790359j,\n",
      "          (4, 5): -396.79390524561546j,\n",
      "          (5, 10): (195.50285631772607-409.4074344240442j),\n",
      "          (5, 11): (152.59674404509738-317.5963965029401j),\n",
      "          (5, 12): (309.89274038379875-610.2755448193116j),\n",
      "          (6, 7): -567.6979846721543j,\n",
      "          (6, 8): -909.0082719752751j,\n",
      "          (8, 9): (390.2049552447428-1036.5394127060915j),\n",
      "          (8, 13): (142.4005487019931-302.90504569306034j)}\n",
      "branch_list_hat = s_dict.keys()\n",
      "branch_map_hat = {}\n",
      "for i, (fbus, tbus) in enumerate(s_dict):\n",
      "    print i, fbus, tbus"
     ],
     "language": "python",
     "metadata": {},
     "outputs": [
      {
       "output_type": "stream",
       "stream": "stdout",
       "text": [
        "0 1 2\n",
        "1 8 13\n",
        "2 5 11\n",
        "3 4 5\n",
        "4 8 9\n",
        "5 6 7\n",
        "6 0 1\n",
        "7 5 10\n",
        "8 6 8\n",
        "9 5 12\n",
        "10 3 6\n",
        "11 0 4\n",
        "12 3 4\n"
       ]
      }
     ],
     "prompt_number": 30
    },
    {
     "cell_type": "code",
     "collapsed": false,
     "input": [
      "S2 = sqrt(2)"
     ],
     "language": "python",
     "metadata": {},
     "outputs": [],
     "prompt_number": 22
    },
    {
     "cell_type": "code",
     "collapsed": false,
     "input": [
      "def jabr2(assemble):\n",
      "    Areal, Areac, P, Q, branches = assemble()\n",
      "    with Model('jabr') as M:\n",
      "        u = M.variable(\"u\", 5, Domain.greaterThan(0.0))\n",
      "        R = M.variable(\"R\", 4, Domain.greaterThan(0.0))\n",
      "        I = M.variable(\"I\", 4, Domain.unbounded())\n",
      "        \n",
      "        expr = lambda x: x.asExpr()\n",
      "        def cone_constraint(fbus, tbus, branch):    \n",
      "            x = Expr.vstack(map(expr, [u.index(fbus), u.index(tbus), R.index(branch), I.index(branch)]))\n",
      "            M.constraint(\"cone%d_%d\" % (fbus, tbus), x, Domain.inRotatedQCone())\n",
      "        \n",
      "        M.constraint(\"u0\",  u.index(0).asExpr(), Domain.equalsTo(1/sqrt(2)))\n",
      "        for fbus, tbus, branch in branches:\n",
      "            cone_constraint(fbus, tbus, branch)\n",
      "\n",
      "        M.constraint(\"flow_real\", Expr.mul(Areal, Expr.vstack(u,R,I)), Domain.equalsTo(P))\n",
      "        M.constraint(\"flow_reac\", Expr.mul(Areac, Expr.vstack(u,R,I)), Domain.equalsTo(Q))\n",
      "    \n",
      "        M.objective(\"maxRsum\", ObjectiveSense.Maximize, Expr.sum(R))\n",
      "        M.solve()\n",
      "        return {'u': u.level(), 'R': R.level(), 'I': I.level()}"
     ],
     "language": "python",
     "metadata": {},
     "outputs": [],
     "prompt_number": 41
    },
    {
     "cell_type": "code",
     "collapsed": false,
     "input": [
      "def sean(assemble):\n",
      "    Areal, Areac, P, Q, branches = assemble()\n",
      "    with Model('jabr') as M:\n",
      "        u = M.variable(\"u\", 5, Domain.greaterThan(0.0))\n",
      "        R = M.variable(\"R\", 4, Domain.greaterThan(0.0))\n",
      "        I = M.variable(\"I\", 4, Domain.unbounded())\n",
      "        \n",
      "        expr = lambda x: x.asExpr()\n",
      "        def cone_constraint(fbus, tbus, branch):    \n",
      "            x = Expr.vstack(map(expr, [u.index(fbus), u.index(tbus), R.index(branch), I.index(branch)]))\n",
      "            M.constraint(\"cone%d_%d\" % (fbus, tbus), x, Domain.inRotatedQCone())\n",
      "        \n",
      "        M.constraint(\"u0\",  u.index(0).asExpr(), Domain.equalsTo(1/sqrt(2)))\n",
      "        for fbus, tbus, branch in branches:\n",
      "            cone_constraint(fbus, tbus, branch)\n",
      "\n",
      "        M.constraint(\"flow_real\", Expr.mul(Areal, Expr.vstack(u,R,I)), Domain.equalsTo(P))\n",
      "        M.constraint(\"flow_reac\", Expr.mul(Areac, Expr.vstack(u,R,I)), Domain.equalsTo(Q))\n",
      "    \n",
      "        M.objective(\"maxRsum\", ObjectiveSense.Maximize, Expr.sum(R))\n",
      "        M.solve()\n",
      "        return M, u, R, I"
     ],
     "language": "python",
     "metadata": {},
     "outputs": [],
     "prompt_number": 133
    },
    {
     "cell_type": "code",
     "collapsed": false,
     "input": [
      "m, u, r, i = sean(assemble_sparse)"
     ],
     "language": "python",
     "metadata": {},
     "outputs": [],
     "prompt_number": 134
    },
    {
     "cell_type": "code",
     "collapsed": false,
     "input": [
      "u.level()"
     ],
     "language": "python",
     "metadata": {},
     "outputs": [
      {
       "metadata": {},
       "output_type": "pyout",
       "prompt_number": 141,
       "text": [
        "[0.7071067811865475,\n",
        " 0.5148930660580713,\n",
        " 0.6855988197623519,\n",
        " 0.5388430539391784,\n",
        " 0.5148930659501717]"
       ]
      }
     ],
     "prompt_number": 141
    },
    {
     "cell_type": "code",
     "collapsed": false,
     "input": [],
     "language": "python",
     "metadata": {},
     "outputs": []
    },
    {
     "cell_type": "code",
     "collapsed": false,
     "input": [
      "def assemble_sparse():\n",
      "    m, n = 4, 13\n",
      "    rows = [0, 0, 0, 1, 1, 1, 1, 1, 1, 1, 2, 2, 2, 3, 3, 3]\n",
      "    cols = [1, 5, 9, 2, 6, 7, 8, 10, 11, 12, 3,  7, 11, 4, 8, 12]\n",
      "    vals = [g*S2, -g, -b, 3*g*S2, -g, -g, -g, -b, b, b, g*S2, -g, -b, g*S2, -g, -b]\n",
      "    Areal = Matrix.sparse(m, n, rows, cols, vals)\n",
      "    Areac = DenseMatrix(\n",
      "            [[0., -b*S2,       0,     0,     0,  b,  0,  0,  0, -g,  0,  0,  0],\n",
      "             [0.,     0, -3*b*S2,     0,     0,  0,  b,  b,  b,  0, -g,  g,  g],\n",
      "             [0.,     0,       0, -b*S2,     0,  0,  0,  b,  0,  0,  0, -g,  0],\n",
      "             [0.,     0,       0,     0, -b*S2,  0,  0,  0,  b,  0,  0,  0, -g]]\n",
      "            )\n",
      "    P = [-1.,-1.,-1.,-1.]\n",
      "    Q = [0.,0.,0.,0.]\n",
      "    branches = [(0,1,0), (0,2,1), (2,3,2), (2,4,3)]\n",
      "    return Areal, Areac, P, Q, branches"
     ],
     "language": "python",
     "metadata": {},
     "outputs": []
    },
    {
     "cell_type": "code",
     "collapsed": false,
     "input": [
      "from scipy.sparse import dok_matrix, coo_matrix"
     ],
     "language": "python",
     "metadata": {},
     "outputs": [],
     "prompt_number": 79
    },
    {
     "cell_type": "code",
     "collapsed": false,
     "input": [
      "A = dok_matrix([[0.,  g*S2,       0,     0,     0, -g,  0,  0,  0, -b,  0,  0,  0],\n",
      "             [0.,     0,  3*g*S2,     0,     0,  0, -g, -g, -g,  0, -b,  b,  b],\n",
      "             [0.,     0,       0,  g*S2,     0,  0,  0, -g,  0,  0,  0, -b,  0],\n",
      "             [0.,     0,       0,     0,  g*S2,  0,  0,  0, -g,  0,  0,  0, -b]])"
     ],
     "language": "python",
     "metadata": {},
     "outputs": [],
     "prompt_number": 62
    },
    {
     "cell_type": "code",
     "collapsed": false,
     "input": [
      "A.tocoo().data"
     ],
     "language": "python",
     "metadata": {},
     "outputs": [
      {
       "metadata": {},
       "output_type": "pyout",
       "prompt_number": 69,
       "text": [
        "array([ 4.20063434, -0.99009901,  9.9009901 ,  1.40021145, -9.9009901 ,\n",
        "        1.40021145,  9.9009901 , -9.9009901 ,  9.9009901 , -0.99009901,\n",
        "       -0.99009901, -0.99009901, -0.99009901,  9.9009901 , -0.99009901,\n",
        "        1.40021145])"
       ]
      }
     ],
     "prompt_number": 69
    },
    {
     "cell_type": "code",
     "collapsed": false,
     "input": [
      "def assemble():\n",
      "    Areal = DenseMatrix(\n",
      "            [[0.,  g*S2,       0,     0,     0, -g,  0,  0,  0, -b,  0,  0,  0],\n",
      "             [0.,     0,  3*g*S2,     0,     0,  0, -g, -g, -g,  0, -b,  b,  b],\n",
      "             [0.,     0,       0,  g*S2,     0,  0,  0, -g,  0,  0,  0, -b,  0],\n",
      "             [0.,     0,       0,     0,  g*S2,  0,  0,  0, -g,  0,  0,  0, -b]]\n",
      "            )\n",
      "    Areac = DenseMatrix(\n",
      "            [[0., -b*S2,       0,     0,     0,  b,  0,  0,  0, -g,  0,  0,  0],\n",
      "             [0.,     0, -3*b*S2,     0,     0,  0,  b,  b,  b,  0, -g,  g,  g],\n",
      "             [0.,     0,       0, -b*S2,     0,  0,  0,  b,  0,  0,  0, -g,  0],\n",
      "             [0.,     0,       0,     0, -b*S2,  0,  0,  0,  b,  0,  0,  0, -g]]\n",
      "            )\n",
      "    P = [-1.,-1.,-1.,-1.]\n",
      "    Q = [0.,0.,0.,0.]\n",
      "    branches = [(0,1,0), (0,2,1), (2,3,2), (2,4,3)]\n",
      "    return Areal, Areac, P, Q, branches"
     ],
     "language": "python",
     "metadata": {},
     "outputs": [],
     "prompt_number": 35
    },
    {
     "cell_type": "code",
     "collapsed": false,
     "input": [
      "def assemble():\n",
      "    Areal = DenseMatrix(\n",
      "            [\n",
      "             [0.,  g*S2,       0,      0,     0,  0,  0, -g,  0,  0,  0, b,  0],\n",
      "             [0.,     0,    g*S2,      0,     0, -g,  0,  0,  0, -b,  0,  0,  0],\n",
      "             [0.,     0,       0, 3*g*S2,     0,  0, -g, -g, -g,  0, -b,  -b,  b],\n",
      "             [0.,     0,       0,      0,  g*S2,  0,  0,  0, -g,  0,  0,  0, -b]\n",
      "             ]\n",
      "            )\n",
      "    Areac = DenseMatrix(\n",
      "            [\n",
      "             [0., -b*S2,       0,       0,     0,  0,  0,  b,  0,  0,  0, g,  0],\n",
      "             [0.,     0,   -b*S2,       0,     0,  b,  0,  0,  0, -g,  0,  0,  0],\n",
      "             [0.,     0,       0, -3*b*S2,     0,  0,  b,  b,  b,  0, -g,  -g,  g],\n",
      "             [0.,     0,       0,       0, -b*S2,  0,  0,  0,  b,  0,  0,  0, -g]\n",
      "             ]\n",
      "            )\n",
      "    P = [-1.,-1.,-1.,-1.]\n",
      "    Q = [0.,0.,0.,0.]\n",
      "    branches = [(0,2,0), (0,3,1), (1,3,2), (3,4,3)]\n",
      "    return Areal, Areac, P, Q, branches"
     ],
     "language": "python",
     "metadata": {},
     "outputs": [],
     "prompt_number": 70
    },
    {
     "cell_type": "code",
     "collapsed": false,
     "input": [
      "def assemble_sparse():\n",
      "    Areal = coo_matrix([[0.,  g*S2,       0,       0,     0,  0,  0, -g,  0,  0,  0,  b,  0],\n",
      "                        [0.,     0,    g*S2,       0,     0, -g,  0,  0,  0, -b,  0,  0,  0],\n",
      "                        [0.,     0,       0,  3*g*S2,     0,  0, -g, -g, -g,  0, -b, -b,  b],\n",
      "                        [0.,     0,       0,       0,  g*S2,  0,  0,  0, -g,  0,  0,  0, -b]])\n",
      "    Areac = coo_matrix([[0., -b*S2,       0,       0,     0,  0,  0,  b,  0,  0,  0,  g,  0],\n",
      "                        [0.,     0,   -b*S2,       0,     0,  b,  0,  0,  0, -g,  0,  0,  0],\n",
      "                        [0.,     0,       0, -3*b*S2,     0,  0,  b,  b,  b,  0, -g, -g,  g],\n",
      "                        [0.,     0,       0,       0, -b*S2,  0,  0,  0,  b,  0,  0,  0, -g]])\n",
      "    def convert(M):\n",
      "        m, n = M.shape\n",
      "        rows = M.row.astype(int).tolist()\n",
      "        cols = M.col.astype(int).tolist()\n",
      "        vals = M.data.tolist()\n",
      "        return Matrix.sparse(m, n, rows, cols, vals)\n",
      "    Areal = convert(Areal)\n",
      "    Areac = convert(Areac)\n",
      "    P = [-1.,-1.,-1.,-1.]\n",
      "    Q = [0.,0.,0.,0.]\n",
      "    branches = [(0,2,0), (0,3,1), (1,3,2), (3,4,3)]\n",
      "    return Areal, Areac, P, Q, branches"
     ],
     "language": "python",
     "metadata": {},
     "outputs": [],
     "prompt_number": 120
    },
    {
     "cell_type": "code",
     "collapsed": false,
     "input": [
      "g, b"
     ],
     "language": "python",
     "metadata": {},
     "outputs": [
      {
       "metadata": {},
       "output_type": "pyout",
       "prompt_number": 128,
       "text": [
        "(0.99009900990099, -9.900990099009901)"
       ]
      }
     ],
     "prompt_number": 128
    },
    {
     "cell_type": "code",
     "collapsed": false,
     "input": [
      "ans = jabr2(assemble_sparse)"
     ],
     "language": "python",
     "metadata": {},
     "outputs": [],
     "prompt_number": 125
    },
    {
     "cell_type": "code",
     "collapsed": false,
     "input": [
      "ans['u'], ans['R'], ans['I']"
     ],
     "language": "python",
     "metadata": {},
     "outputs": [
      {
       "metadata": {},
       "output_type": "pyout",
       "prompt_number": 126,
       "text": [
        "([0.7071067811865475,\n",
        "  0.5148930660580713,\n",
        "  0.6855988197623519,\n",
        "  0.5388430539391784,\n",
        "  0.5148930659501717],\n",
        " [0.9795831426093156,\n",
        "  0.8197799436773788,\n",
        "  0.7381687505453243,\n",
        "  0.7381687503906379],\n",
        " [-0.09999999934202082,\n",
        "  -0.2999999980260615,\n",
        "  0.09999999933925931,\n",
        "  -0.09999999931830666])"
       ]
      }
     ],
     "prompt_number": 126
    },
    {
     "cell_type": "code",
     "collapsed": false,
     "input": [
      "U = np.array(ans['u'])\n",
      "V = sqrt(sqrt(2)*U)\n",
      "R, I = ans['R'], ans['I']\n",
      "t02 = asin(I[0]/V[0]/V[2])\n",
      "t03 = asin(I[1]/V[0]/V[3])\n",
      "t13 = asin(I[2]/V[1]/V[3])\n",
      "t34 = asin(I[3]/V[3]/V[4])\n",
      "print(V)\n",
      "print([round(180/pi*x,3) for x in [t02,t03,t13,t34]])\n",
      "print(2*sqrt(2)*g*U[0]-g*(R[0]+R[1])+b*(I[0]+I[1]))\n",
      "print(g*(V[0]**2-V[0]*V[2]*cos(t02)) - b*V[0]*V[2]*sin(-t02),\n",
      "      g*(V[0]**2-V[0]*V[3]*cos(t03)) - b*V[0]*V[3]*sin(-t03))"
     ],
     "language": "python",
     "metadata": {},
     "outputs": [
      {
       "output_type": "stream",
       "stream": "stdout",
       "text": [
        "[ 1.          0.85332805  0.98467413  0.87294854  0.85332805]\n",
        "[-5.829, -20.1, 7.715, -7.715]\n",
        "4.15904642316\n",
        "(1.0103137055366433, 3.1487327094883519)\n"
       ]
      }
     ],
     "prompt_number": 129
    },
    {
     "cell_type": "code",
     "collapsed": false,
     "input": [
      "U = np.array(ans['u'])\n",
      "V = sqrt(sqrt(2)*U)\n",
      "R, I = ans['R'], ans['I']\n",
      "t01 = asin(I[0]/V[0]/V[1])\n",
      "t02 = asin(I[1]/V[0]/V[2])\n",
      "t23 = asin(I[2]/V[2]/V[3])\n",
      "t24 = asin(I[3]/V[2]/V[4])\n",
      "print(V)\n",
      "print([round(180/pi*x,3) for x in [t01,t02,t23,t24]])\n",
      "print(2*sqrt(2)*g*U[0]-g*(R[0]+R[1])+b*(I[0]+I[1]))\n",
      "print(g*(V[0]**2-V[0]*V[1]*cos(t01)) - b*V[0]*V[1]*sin(-t01),\n",
      "      g*(V[0]**2-V[0]*V[2]*cos(t02)) - b*V[0]*V[2]*sin(-t02))"
     ],
     "language": "python",
     "metadata": {},
     "outputs": [
      {
       "output_type": "stream",
       "stream": "stdout",
       "text": [
        "[ 1.          0.85332805  0.98467413  0.87294854  0.85332805]\n",
        "[-6.73, -17.738, -6.681, -6.835]\n",
        "4.15904642316\n",
        "(1.1411402109810784, 3.0318208278970391)\n"
       ]
      }
     ],
     "prompt_number": 50
    },
    {
     "cell_type": "code",
     "collapsed": false,
     "input": [
      "assert_alm"
     ],
     "language": "python",
     "metadata": {},
     "outputs": []
    },
    {
     "cell_type": "raw",
     "metadata": {},
     "source": [
      "[ 1.          0.98467413  0.87294854  0.85332805  0.85332805]\n",
      "[-5.829, -20.1, -7.715, -7.715]\n",
      "4.15904642316\n",
      "(1.0103137055366433, 3.1487327094883208)"
     ]
    },
    {
     "cell_type": "markdown",
     "metadata": {},
     "source": [
      "#VICTORY BITCHES!"
     ]
    },
    {
     "cell_type": "code",
     "collapsed": false,
     "input": [
      "r, x = .01, .1 # impedance and resistance, from matpower\n",
      "g, b = z2y(r, x) # convert to susceptance and conductance\n",
      "A1 = DenseMatrix([ [0., g*sqrt(2),-g,-b], [0, -b*sqrt(2),b,-g] ])\n",
      "A2 = DenseMatrix([ [0., 3*g*sqrt(2),-g,-b, 0,0,-g,b, 0,0,-g,b], \n",
      "                   [0.,-3*b*sqrt(2), b,-g, 0,0, b,g, 0,0, b,g] ])\n",
      "A3 = DenseMatrix([ [0., g*sqrt(2),-g,-b], [0, -b*sqrt(2),b,-g] ])\n",
      "A4 = DenseMatrix([ [0., g*sqrt(2),-g,-b], [0, -b*sqrt(2),b,-g] ])\n",
      "rhs = [-1.,0]\n",
      "\n",
      "M = Model('jabr')\n",
      "u = M.variable(\"u\", 5, Domain.greaterThan(0.0))\n",
      "R = M.variable(\"R\", 4, Domain.greaterThan(0.0))\n",
      "I = M.variable(\"I\", 4, Domain.unbounded())"
     ],
     "language": "python",
     "metadata": {},
     "outputs": [],
     "prompt_number": 78
    },
    {
     "cell_type": "code",
     "collapsed": false,
     "input": [
      "M.writeTask('dump.txt')\n",
      "!cat dump.txt"
     ],
     "language": "python",
     "metadata": {},
     "outputs": [
      {
       "output_type": "stream",
       "stream": "stdout",
       "text": [
        "NAME\r\n",
        "* Written by MOSEK version 7.0.0.92\r\n",
        "OBJSENSE\r\n",
        "    MIN\r\n",
        "ROWS\r\n",
        " N  OBJ\r\n",
        "COLUMNS\r\n",
        "    X1        OBJ       0\r\n",
        "    X2        OBJ       0\r\n",
        "    X3        OBJ       0\r\n",
        "    X4        OBJ       0\r\n",
        "    X5        OBJ       0\r\n",
        "    X6        OBJ       0\r\n",
        "    X7        OBJ       0\r\n",
        "    X8        OBJ       0\r\n",
        "    X9        OBJ       0\r\n",
        "    X10       OBJ       0\r\n",
        "    X11       OBJ       0\r\n",
        "    X12       OBJ       0\r\n",
        "    X13       OBJ       0\r\n",
        "RHS\r\n",
        "RANGES\r\n",
        "BOUNDS\r\n",
        " FR bound     X10     \r\n",
        " FR bound     X11     \r\n",
        " FR bound     X12     \r\n",
        " FR bound     X13     \r\n",
        "ENDATA\r\n"
       ]
      }
     ],
     "prompt_number": 79
    },
    {
     "cell_type": "code",
     "collapsed": false,
     "input": [
      "M.objective(\"maxRsum\", ObjectiveSense.Maximize, Expr.sum(R))\n",
      "M.writeTask('dump.txt')\n",
      "!cat dump.txt"
     ],
     "language": "python",
     "metadata": {},
     "outputs": [
      {
       "output_type": "stream",
       "stream": "stdout",
       "text": [
        "NAME           jabr\r\n",
        "* Written by MOSEK version 7.0.0.92\r\n",
        "OBJSENSE\r\n",
        "    MAX\r\n",
        "ROWS\r\n",
        " N  maxRsum\r\n",
        "COLUMNS\r\n",
        "    u[0]      maxRsum   0\r\n",
        "    u[1]      maxRsum   0\r\n",
        "    u[2]      maxRsum   0\r\n",
        "    u[3]      maxRsum   0\r\n",
        "    u[4]      maxRsum   0\r\n",
        "    R[0]      maxRsum   1e+0\r\n",
        "    R[1]      maxRsum   1e+0\r\n",
        "    R[2]      maxRsum   1e+0\r\n",
        "    R[3]      maxRsum   1e+0\r\n",
        "    I[0]      maxRsum   0\r\n",
        "    I[1]      maxRsum   0\r\n",
        "    I[2]      maxRsum   0\r\n",
        "    I[3]      maxRsum   0\r\n",
        "RHS\r\n",
        "RANGES\r\n",
        "BOUNDS\r\n",
        " FR bound     I[0]    \r\n",
        " FR bound     I[1]    \r\n",
        " FR bound     I[2]    \r\n",
        " FR bound     I[3]    \r\n",
        "ENDATA\r\n"
       ]
      }
     ],
     "prompt_number": 80
    },
    {
     "cell_type": "code",
     "collapsed": false,
     "input": [
      "x01 = Expr.vstack( Expr.vstack(u.index(0),u.index(1)), R.index(0), I.index(0))\n",
      "x02 = Expr.vstack( Expr.vstack(u.index(0),u.index(2)), R.index(1), I.index(1))\n",
      "x23 = Expr.vstack( Expr.vstack(u.index(2),u.index(3)), R.index(2), I.index(2))\n",
      "x24 = Expr.vstack( Expr.vstack(u.index(2),u.index(4)), R.index(3), I.index(3))"
     ],
     "language": "python",
     "metadata": {},
     "outputs": [],
     "prompt_number": 81
    },
    {
     "cell_type": "code",
     "collapsed": false,
     "input": [
      "M.constraint(\"u0\",  u.index(0).asExpr(), Domain.equalsTo(1/sqrt(2)))\n",
      "M.writeTask('dump.txt')\n",
      "!cat dump.txt"
     ],
     "language": "python",
     "metadata": {},
     "outputs": [
      {
       "output_type": "stream",
       "stream": "stdout",
       "text": [
        "NAME           jabr\r\n",
        "* Written by MOSEK version 7.0.0.92\r\n",
        "OBJSENSE\r\n",
        "    MAX\r\n",
        "ROWS\r\n",
        " N  maxRsum\r\n",
        " E  u0[0]   \r\n",
        "COLUMNS\r\n",
        "    u[0]      maxRsum   0\r\n",
        "    u[0]      u0[0]     1e+0\r\n",
        "    u[1]      maxRsum   0\r\n",
        "    u[2]      maxRsum   0\r\n",
        "    u[3]      maxRsum   0\r\n",
        "    u[4]      maxRsum   0\r\n",
        "    R[0]      maxRsum   1e+0\r\n",
        "    R[1]      maxRsum   1e+0\r\n",
        "    R[2]      maxRsum   1e+0\r\n",
        "    R[3]      maxRsum   1e+0\r\n",
        "    I[0]      maxRsum   0\r\n",
        "    I[1]      maxRsum   0\r\n",
        "    I[2]      maxRsum   0\r\n",
        "    I[3]      maxRsum   0\r\n",
        "RHS\r\n",
        "    rhs       u0[0]     7.07106781e-1\r\n",
        "RANGES\r\n",
        "BOUNDS\r\n",
        " FR bound     I[0]    \r\n",
        " FR bound     I[1]    \r\n",
        " FR bound     I[2]    \r\n",
        " FR bound     I[3]    \r\n",
        "ENDATA\r\n"
       ]
      }
     ],
     "prompt_number": 82
    },
    {
     "cell_type": "code",
     "collapsed": false,
     "input": [
      "M.constraint(\"cone01\", x01, Domain.inRotatedQCone())\n",
      "M.constraint(\"cone02\", x02, Domain.inRotatedQCone())\n",
      "M.constraint(\"cone23\", x23, Domain.inRotatedQCone())\n",
      "M.constraint(\"cone24\", x24, Domain.inRotatedQCone())\n",
      "M.writeTask('dump.txt')\n",
      "!cat dump.txt"
     ],
     "language": "python",
     "metadata": {},
     "outputs": [
      {
       "output_type": "stream",
       "stream": "stdout",
       "text": [
        "NAME           jabr\r\n",
        "* Written by MOSEK version 7.0.0.92\r\n",
        "OBJSENSE\r\n",
        "    MAX\r\n",
        "ROWS\r\n",
        " N  maxRsum\r\n",
        " E  u0[0]   \r\n",
        " E  cone01[0]\r\n",
        " E  cone01[1]\r\n",
        " E  cone01[2]\r\n",
        " E  cone01[3]\r\n",
        " E  cone02[0]\r\n",
        " E  cone02[1]\r\n",
        " E  cone02[2]\r\n",
        " E  cone02[3]\r\n",
        " E  cone23[0]\r\n",
        " E  cone23[1]\r\n",
        " E  cone23[2]\r\n",
        " E  cone23[3]\r\n",
        " E  cone24[0]\r\n",
        " E  cone24[1]\r\n",
        " E  cone24[2]\r\n",
        " E  cone24[3]\r\n",
        "COLUMNS\r\n",
        "    u[0]      maxRsum   0\r\n",
        "    u[0]      u0[0]     1e+0\r\n",
        "    u[0]      cone01[0]  1e+0\r\n",
        "    u[0]      cone02[0]  1e+0\r\n",
        "    u[1]      maxRsum   0\r\n",
        "    u[1]      cone01[1]  1e+0\r\n",
        "    u[2]      maxRsum   0\r\n",
        "    u[2]      cone02[1]  1e+0\r\n",
        "    u[2]      cone23[0]  1e+0\r\n",
        "    u[2]      cone24[0]  1e+0\r\n",
        "    u[3]      maxRsum   0\r\n",
        "    u[3]      cone23[1]  1e+0\r\n",
        "    u[4]      maxRsum   0\r\n",
        "    u[4]      cone24[1]  1e+0\r\n",
        "    R[0]      maxRsum   1e+0\r\n",
        "    R[0]      cone01[2]  1e+0\r\n",
        "    R[1]      maxRsum   1e+0\r\n",
        "    R[1]      cone02[2]  1e+0\r\n",
        "    R[2]      maxRsum   1e+0\r\n",
        "    R[2]      cone23[2]  1e+0\r\n",
        "    R[3]      maxRsum   1e+0\r\n",
        "    R[3]      cone24[2]  1e+0\r\n",
        "    I[0]      maxRsum   0\r\n",
        "    I[0]      cone01[3]  1e+0\r\n",
        "    I[1]      maxRsum   0\r\n",
        "    I[1]      cone02[3]  1e+0\r\n",
        "    I[2]      maxRsum   0\r\n",
        "    I[2]      cone23[3]  1e+0\r\n",
        "    I[3]      maxRsum   0\r\n",
        "    I[3]      cone24[3]  1e+0\r\n",
        "    cone01[0].coneslack  maxRsum   0\r\n",
        "    cone01[0].coneslack  cone01[0]  -1e+0\r\n",
        "    cone01[1].coneslack  maxRsum   0\r\n",
        "    cone01[1].coneslack  cone01[1]  -1e+0\r\n",
        "    cone01[2].coneslack  maxRsum   0\r\n",
        "    cone01[2].coneslack  cone01[2]  -1e+0\r\n",
        "    cone01[3].coneslack  maxRsum   0\r\n",
        "    cone01[3].coneslack  cone01[3]  -1e+0\r\n",
        "    cone02[0].coneslack  maxRsum   0\r\n",
        "    cone02[0].coneslack  cone02[0]  -1e+0\r\n",
        "    cone02[1].coneslack  maxRsum   0\r\n",
        "    cone02[1].coneslack  cone02[1]  -1e+0\r\n",
        "    cone02[2].coneslack  maxRsum   0\r\n",
        "    cone02[2].coneslack  cone02[2]  -1e+0\r\n",
        "    cone02[3].coneslack  maxRsum   0\r\n",
        "    cone02[3].coneslack  cone02[3]  -1e+0\r\n",
        "    cone23[0].coneslack  maxRsum   0\r\n",
        "    cone23[0].coneslack  cone23[0]  -1e+0\r\n",
        "    cone23[1].coneslack  maxRsum   0\r\n",
        "    cone23[1].coneslack  cone23[1]  -1e+0\r\n",
        "    cone23[2].coneslack  maxRsum   0\r\n",
        "    cone23[2].coneslack  cone23[2]  -1e+0\r\n",
        "    cone23[3].coneslack  maxRsum   0\r\n",
        "    cone23[3].coneslack  cone23[3]  -1e+0\r\n",
        "    cone24[0].coneslack  maxRsum   0\r\n",
        "    cone24[0].coneslack  cone24[0]  -1e+0\r\n",
        "    cone24[1].coneslack  maxRsum   0\r\n",
        "    cone24[1].coneslack  cone24[1]  -1e+0\r\n",
        "    cone24[2].coneslack  maxRsum   0\r\n",
        "    cone24[2].coneslack  cone24[2]  -1e+0\r\n",
        "    cone24[3].coneslack  maxRsum   0\r\n",
        "    cone24[3].coneslack  cone24[3]  -1e+0\r\n",
        "RHS\r\n",
        "    rhs       u0[0]     7.07106781e-1\r\n",
        "RANGES\r\n",
        "BOUNDS\r\n",
        " FR bound     I[0]    \r\n",
        " FR bound     I[1]    \r\n",
        " FR bound     I[2]    \r\n",
        " FR bound     I[3]    \r\n",
        " FR bound     cone01[0].coneslack\r\n",
        " FR bound     cone01[1].coneslack\r\n",
        " FR bound     cone01[2].coneslack\r\n",
        " FR bound     cone01[3].coneslack\r\n",
        " FR bound     cone02[0].coneslack\r\n",
        " FR bound     cone02[1].coneslack\r\n",
        " FR bound     cone02[2].coneslack\r\n",
        " FR bound     cone02[3].coneslack\r\n",
        " FR bound     cone23[0].coneslack\r\n",
        " FR bound     cone23[1].coneslack\r\n",
        " FR bound     cone23[2].coneslack\r\n",
        " FR bound     cone23[3].coneslack\r\n",
        " FR bound     cone24[0].coneslack\r\n",
        " FR bound     cone24[1].coneslack\r\n",
        " FR bound     cone24[2].coneslack\r\n",
        " FR bound     cone24[3].coneslack\r\n",
        "CSECTION      cone01[0]  0              RQUAD\r\n",
        "    cone01[0].coneslack\r\n",
        "    cone01[1].coneslack\r\n",
        "    cone01[2].coneslack\r\n",
        "    cone01[3].coneslack\r\n",
        "CSECTION      cone02[0]  0              RQUAD\r\n",
        "    cone02[0].coneslack\r\n",
        "    cone02[1].coneslack\r\n",
        "    cone02[2].coneslack\r\n",
        "    cone02[3].coneslack\r\n",
        "CSECTION      cone23[0]  0              RQUAD\r\n",
        "    cone23[0].coneslack\r\n",
        "    cone23[1].coneslack\r\n",
        "    cone23[2].coneslack\r\n",
        "    cone23[3].coneslack\r\n",
        "CSECTION      cone24[0]  0              RQUAD\r\n",
        "    cone24[0].coneslack\r\n",
        "    cone24[1].coneslack\r\n",
        "    cone24[2].coneslack\r\n",
        "    cone24[3].coneslack\r\n",
        "ENDATA\r\n"
       ]
      }
     ],
     "prompt_number": 83
    },
    {
     "cell_type": "code",
     "collapsed": false,
     "input": [
      "M.constraint(\"flow1\",  Expr.mul(A1, x01), Domain.equalsTo(rhs))\n",
      "M.constraint(\"flow2\",  Expr.mul(A2, Expr.vstack(x02,x23,x24)), Domain.equalsTo(rhs))\n",
      "M.constraint(\"flow3\",  Expr.mul(A3, x23), Domain.equalsTo(rhs))\n",
      "M.constraint(\"flow4\",  Expr.mul(A4, x24), Domain.equalsTo(rhs))\n",
      "M.writeTask('dump.txt')\n",
      "!cat dump.txt"
     ],
     "language": "python",
     "metadata": {},
     "outputs": [
      {
       "output_type": "stream",
       "stream": "stdout",
       "text": [
        "NAME           jabr\r\n",
        "* Written by MOSEK version 7.0.0.92\r\n",
        "OBJSENSE\r\n",
        "    MAX\r\n",
        "ROWS\r\n",
        " N  maxRsum\r\n",
        " E  u0[0]   \r\n",
        " E  cone01[0]\r\n",
        " E  cone01[1]\r\n",
        " E  cone01[2]\r\n",
        " E  cone01[3]\r\n",
        " E  cone02[0]\r\n",
        " E  cone02[1]\r\n",
        " E  cone02[2]\r\n",
        " E  cone02[3]\r\n",
        " E  cone23[0]\r\n",
        " E  cone23[1]\r\n",
        " E  cone23[2]\r\n",
        " E  cone23[3]\r\n",
        " E  cone24[0]\r\n",
        " E  cone24[1]\r\n",
        " E  cone24[2]\r\n",
        " E  cone24[3]\r\n",
        " E  flow1[0]\r\n",
        " E  flow1[1]\r\n",
        " E  flow2[0]\r\n",
        " E  flow2[1]\r\n",
        " E  flow3[0]\r\n",
        " E  flow3[1]\r\n",
        " E  flow4[0]\r\n",
        " E  flow4[1]\r\n",
        "COLUMNS\r\n",
        "    u[0]      maxRsum   0\r\n",
        "    u[0]      u0[0]     1e+0\r\n",
        "    u[0]      cone01[0]  1e+0\r\n",
        "    u[0]      cone02[0]  1e+0\r\n",
        "    u[1]      maxRsum   0\r\n",
        "    u[1]      cone01[1]  1e+0\r\n",
        "    u[1]      flow1[0]  1.40021145e+0\r\n",
        "    u[1]      flow1[1]  1.40021145e+1\r\n",
        "    u[2]      maxRsum   0\r\n",
        "    u[2]      cone02[1]  1e+0\r\n",
        "    u[2]      cone23[0]  1e+0\r\n",
        "    u[2]      cone24[0]  1e+0\r\n",
        "    u[2]      flow2[0]  4.20063434e+0\r\n",
        "    u[2]      flow2[1]  4.20063434e+1\r\n",
        "    u[3]      maxRsum   0\r\n",
        "    u[3]      cone23[1]  1e+0\r\n",
        "    u[3]      flow3[0]  1.40021145e+0\r\n",
        "    u[3]      flow3[1]  1.40021145e+1\r\n",
        "    u[4]      maxRsum   0\r\n",
        "    u[4]      cone24[1]  1e+0\r\n",
        "    u[4]      flow4[0]  1.40021145e+0\r\n",
        "    u[4]      flow4[1]  1.40021145e+1\r\n",
        "    R[0]      maxRsum   1e+0\r\n",
        "    R[0]      cone01[2]  1e+0\r\n",
        "    R[0]      flow1[0]  -9.9009901e-1\r\n",
        "    R[0]      flow1[1]  -9.9009901e+0\r\n",
        "    R[1]      maxRsum   1e+0\r\n",
        "    R[1]      cone02[2]  1e+0\r\n",
        "    R[1]      flow2[0]  -9.9009901e-1\r\n",
        "    R[1]      flow2[1]  -9.9009901e+0\r\n",
        "    R[2]      maxRsum   1e+0\r\n",
        "    R[2]      cone23[2]  1e+0\r\n",
        "    R[2]      flow2[0]  -9.9009901e-1\r\n",
        "    R[2]      flow2[1]  -9.9009901e+0\r\n",
        "    R[2]      flow3[0]  -9.9009901e-1\r\n",
        "    R[2]      flow3[1]  -9.9009901e+0\r\n",
        "    R[3]      maxRsum   1e+0\r\n",
        "    R[3]      cone24[2]  1e+0\r\n",
        "    R[3]      flow2[0]  -9.9009901e-1\r\n",
        "    R[3]      flow2[1]  -9.9009901e+0\r\n",
        "    R[3]      flow4[0]  -9.9009901e-1\r\n",
        "    R[3]      flow4[1]  -9.9009901e+0\r\n",
        "    I[0]      maxRsum   0\r\n",
        "    I[0]      cone01[3]  1e+0\r\n",
        "    I[0]      flow1[0]  9.9009901e+0\r\n",
        "    I[0]      flow1[1]  -9.9009901e-1\r\n",
        "    I[1]      maxRsum   0\r\n",
        "    I[1]      cone02[3]  1e+0\r\n",
        "    I[1]      flow2[0]  9.9009901e+0\r\n",
        "    I[1]      flow2[1]  -9.9009901e-1\r\n",
        "    I[2]      maxRsum   0\r\n",
        "    I[2]      cone23[3]  1e+0\r\n",
        "    I[2]      flow2[0]  -9.9009901e+0\r\n",
        "    I[2]      flow2[1]  9.9009901e-1\r\n",
        "    I[2]      flow3[0]  9.9009901e+0\r\n",
        "    I[2]      flow3[1]  -9.9009901e-1\r\n",
        "    I[3]      maxRsum   0\r\n",
        "    I[3]      cone24[3]  1e+0\r\n",
        "    I[3]      flow2[0]  -9.9009901e+0\r\n",
        "    I[3]      flow2[1]  9.9009901e-1\r\n",
        "    I[3]      flow4[0]  9.9009901e+0\r\n",
        "    I[3]      flow4[1]  -9.9009901e-1\r\n",
        "    cone01[0].coneslack  maxRsum   0\r\n",
        "    cone01[0].coneslack  cone01[0]  -1e+0\r\n",
        "    cone01[1].coneslack  maxRsum   0\r\n",
        "    cone01[1].coneslack  cone01[1]  -1e+0\r\n",
        "    cone01[2].coneslack  maxRsum   0\r\n",
        "    cone01[2].coneslack  cone01[2]  -1e+0\r\n",
        "    cone01[3].coneslack  maxRsum   0\r\n",
        "    cone01[3].coneslack  cone01[3]  -1e+0\r\n",
        "    cone02[0].coneslack  maxRsum   0\r\n",
        "    cone02[0].coneslack  cone02[0]  -1e+0\r\n",
        "    cone02[1].coneslack  maxRsum   0\r\n",
        "    cone02[1].coneslack  cone02[1]  -1e+0\r\n",
        "    cone02[2].coneslack  maxRsum   0\r\n",
        "    cone02[2].coneslack  cone02[2]  -1e+0\r\n",
        "    cone02[3].coneslack  maxRsum   0\r\n",
        "    cone02[3].coneslack  cone02[3]  -1e+0\r\n",
        "    cone23[0].coneslack  maxRsum   0\r\n",
        "    cone23[0].coneslack  cone23[0]  -1e+0\r\n",
        "    cone23[1].coneslack  maxRsum   0\r\n",
        "    cone23[1].coneslack  cone23[1]  -1e+0\r\n",
        "    cone23[2].coneslack  maxRsum   0\r\n",
        "    cone23[2].coneslack  cone23[2]  -1e+0\r\n",
        "    cone23[3].coneslack  maxRsum   0\r\n",
        "    cone23[3].coneslack  cone23[3]  -1e+0\r\n",
        "    cone24[0].coneslack  maxRsum   0\r\n",
        "    cone24[0].coneslack  cone24[0]  -1e+0\r\n",
        "    cone24[1].coneslack  maxRsum   0\r\n",
        "    cone24[1].coneslack  cone24[1]  -1e+0\r\n",
        "    cone24[2].coneslack  maxRsum   0\r\n",
        "    cone24[2].coneslack  cone24[2]  -1e+0\r\n",
        "    cone24[3].coneslack  maxRsum   0\r\n",
        "    cone24[3].coneslack  cone24[3]  -1e+0\r\n",
        "RHS\r\n",
        "    rhs       u0[0]     7.07106781e-1\r\n",
        "    rhs       flow1[0]  -1e+0\r\n",
        "    rhs       flow2[0]  -1e+0\r\n",
        "    rhs       flow3[0]  -1e+0\r\n",
        "    rhs       flow4[0]  -1e+0\r\n",
        "RANGES\r\n",
        "BOUNDS\r\n",
        " FR bound     I[0]    \r\n",
        " FR bound     I[1]    \r\n",
        " FR bound     I[2]    \r\n",
        " FR bound     I[3]    \r\n",
        " FR bound     cone01[0].coneslack\r\n",
        " FR bound     cone01[1].coneslack\r\n",
        " FR bound     cone01[2].coneslack\r\n",
        " FR bound     cone01[3].coneslack\r\n",
        " FR bound     cone02[0].coneslack\r\n",
        " FR bound     cone02[1].coneslack\r\n",
        " FR bound     cone02[2].coneslack\r\n",
        " FR bound     cone02[3].coneslack\r\n",
        " FR bound     cone23[0].coneslack\r\n",
        " FR bound     cone23[1].coneslack\r\n",
        " FR bound     cone23[2].coneslack\r\n",
        " FR bound     cone23[3].coneslack\r\n",
        " FR bound     cone24[0].coneslack\r\n",
        " FR bound     cone24[1].coneslack\r\n",
        " FR bound     cone24[2].coneslack\r\n",
        " FR bound     cone24[3].coneslack\r\n",
        "CSECTION      cone01[0]  0              RQUAD\r\n",
        "    cone01[0].coneslack\r\n",
        "    cone01[1].coneslack\r\n",
        "    cone01[2].coneslack\r\n",
        "    cone01[3].coneslack\r\n",
        "CSECTION      cone02[0]  0              RQUAD\r\n",
        "    cone02[0].coneslack\r\n",
        "    cone02[1].coneslack\r\n",
        "    cone02[2].coneslack\r\n",
        "    cone02[3].coneslack\r\n",
        "CSECTION      cone23[0]  0              RQUAD\r\n",
        "    cone23[0].coneslack\r\n",
        "    cone23[1].coneslack\r\n",
        "    cone23[2].coneslack\r\n",
        "    cone23[3].coneslack\r\n",
        "CSECTION      cone24[0]  0              RQUAD\r\n",
        "    cone24[0].coneslack\r\n",
        "    cone24[1].coneslack\r\n",
        "    cone24[2].coneslack\r\n",
        "    cone24[3].coneslack\r\n",
        "ENDATA\r\n"
       ]
      }
     ],
     "prompt_number": 84
    },
    {
     "cell_type": "code",
     "collapsed": false,
     "input": [
      "M.solve()\n",
      "return {'u': u.level(), 'R': R.level(), 'I': I.level()}"
     ],
     "language": "python",
     "metadata": {},
     "outputs": []
    }
   ],
   "metadata": {}
  }
 ]
}