{
 "metadata": {
  "name": ""
 },
 "nbformat": 3,
 "nbformat_minor": 0,
 "worksheets": [
  {
   "cells": [
    {
     "cell_type": "code",
     "collapsed": false,
     "input": [
      "from loadcase import load_case\n",
      "from numpy import set_printoptions, array\n",
      "import jabr"
     ],
     "language": "python",
     "metadata": {},
     "outputs": [],
     "prompt_number": 19
    },
    {
     "cell_type": "code",
     "collapsed": false,
     "input": [
      "set_printoptions(precision=1, linewidth=100)\n",
      "def disp_case(c):\n",
      "    print(c.branch_list)\n",
      "    print(c.i2e)\n",
      "    print(c.demands)\n",
      "    print(c.B.todense())"
     ],
     "language": "python",
     "metadata": {},
     "outputs": [],
     "prompt_number": 20
    },
    {
     "cell_type": "code",
     "collapsed": false,
     "input": [
      "c = load_case('cases/case5_with_q.m')\n",
      "disp_case(c)"
     ],
     "language": "python",
     "metadata": {},
     "outputs": [
      {
       "output_type": "stream",
       "stream": "stdout",
       "text": [
        "[(0, 2), (0, 3), (1, 3), (3, 4)]\n",
        "[5, 1, 2, 3, 4]\n",
        "[0j, (1+0.1j), (1+0.1j), (1+0.1j), (1+0.1j)]\n",
        "[[ 0.   0.  -9.9 -9.9  0. ]\n",
        " [ 0.   0.   0.  -10.   0. ]\n",
        " [-9.9  0.   0.   0.   0. ]\n",
        " [-9.9 -10.   0.   0.  -9.9]\n",
        " [ 0.   0.   0.  -9.9  0. ]]\n"
       ]
      }
     ],
     "prompt_number": 4
    },
    {
     "cell_type": "code",
     "collapsed": false,
     "input": [
      "vars(c).keys()"
     ],
     "language": "python",
     "metadata": {},
     "outputs": [
      {
       "metadata": {},
       "output_type": "pyout",
       "prompt_number": 5,
       "text": [
        "['B', 'G', 'demands', 'vhat', 'branch_list', 'branch_map', 'i2e']"
       ]
      }
     ],
     "prompt_number": 5
    },
    {
     "cell_type": "code",
     "collapsed": false,
     "input": [
      "c = load_case('cases/case9_tree.m')\n",
      "disp_case(c)"
     ],
     "language": "python",
     "metadata": {},
     "outputs": [
      {
       "output_type": "stream",
       "stream": "stdout",
       "text": [
        "[(0, 3), (1, 7), (2, 5), (3, 4), (3, 8), (4, 5), (6, 7), (7, 8)]\n",
        "[1, 2, 3, 4, 5, 6, 7, 8, 9]\n",
        "[0j, (-163-82.5j), (-85-23.7825j), 0j, (90+30j), 0j, (100+35j), 0j, (125+50j)]\n",
        "[[    0.      0.      0.  -1736.1     0.      0.      0.      0.      0. ]\n",
        " [    0.      0.      0.      0.      0.      0.      0.  -1600.      0. ]\n",
        " [    0.      0.      0.      0.      0.  -1706.5     0.      0.      0. ]\n",
        " [-1736.1     0.      0.      0.  -1051.1     0.      0.      0.  -1160.4]\n",
        " [    0.      0.      0.  -1051.1     0.   -558.8     0.      0.      0. ]\n",
        " [    0.      0.  -1706.5     0.   -558.8     0.      0.      0.      0. ]\n",
        " [    0.      0.      0.      0.      0.      0.      0.  -1369.8     0. ]\n",
        " [    0.  -1600.      0.      0.      0.      0.  -1369.8     0.   -597.5]\n",
        " [    0.      0.      0.  -1160.4     0.      0.      0.   -597.5     0. ]]\n"
       ]
      }
     ],
     "prompt_number": 7
    },
    {
     "cell_type": "code",
     "collapsed": false,
     "input": [
      "real, reac = jabr.build_U_matrices(c.G, c.B) #, c.branch_map)"
     ],
     "language": "python",
     "metadata": {},
     "outputs": [],
     "prompt_number": 8
    },
    {
     "cell_type": "code",
     "collapsed": false,
     "input": [
      "set_printoptions(precision=1, linewidth=100)\n",
      "real, reac"
     ],
     "language": "python",
     "metadata": {},
     "outputs": [
      {
       "metadata": {},
       "output_type": "pyout",
       "prompt_number": 9,
       "text": [
        "(<8x9 sparse matrix of type '<type 'numpy.float64'>'\n",
        "\twith 6 stored elements in Dictionary Of Keys format>,\n",
        " <8x9 sparse matrix of type '<type 'numpy.float64'>'\n",
        "\twith 8 stored elements in Dictionary Of Keys format>)"
       ]
      }
     ],
     "prompt_number": 9
    },
    {
     "cell_type": "markdown",
     "metadata": {},
     "source": [
      "#Stuff0"
     ]
    },
    {
     "cell_type": "markdown",
     "metadata": {},
     "source": [
      "**YOU HAVE CPLEX NOW** (and gurobi for that matter)"
     ]
    },
    {
     "cell_type": "code",
     "collapsed": false,
     "input": [
      "from jabr import *\n",
      "from loadcase import load_case, load_branches\n",
      "from scipy.sparse import vstack\n",
      "from numpy import set_printoptions, array"
     ],
     "language": "python",
     "metadata": {},
     "outputs": [],
     "prompt_number": 21
    },
    {
     "cell_type": "code",
     "collapsed": false,
     "input": [
      "#case = load_case('cases/case5_renumber_tree.m')s2 = 2**.5\n",
      "#case = load_case('cases/case15_v2.m')\n",
      "#case = load_case('cases/case85_v2.m')\n",
      "case = load_case('cases/case118_v2.m')\n",
      "case = load_case('cases/case_ieee30_tree.m')\n",
      "c = case\n",
      "u, R, I = build_mosek_model(c)\n",
      "Vhat = recover_original_variables(u, R, I)\n",
      "set_printoptions(precision=4, linewidth=100)\n",
      "print(Vhat)"
     ],
     "language": "python",
     "metadata": {},
     "outputs": [
      {
       "output_type": "stream",
       "stream": "stdout",
       "text": [
        "[ 1.06    1.045   0.9049  0.879   1.01    0.8696  0.8518  0.8975  0.8207  0.7714  0.882   0.8742\n",
        "  0.9016  0.8605  0.855   0.8663  0.7611  0.8486  0.7367  0.7442  0.7521  0.7484  0.8474  0.7176\n",
        "  0.814   0.7917  0.825   0.8602  0.8139  0.7619]\n"
       ]
      }
     ],
     "prompt_number": 41
    },
    {
     "cell_type": "code",
     "collapsed": false,
     "input": [
      "!tail -n60 mosek.log"
     ],
     "language": "python",
     "metadata": {},
     "outputs": [
      {
       "output_type": "stream",
       "stream": "stdout",
       "text": [
        "Problem\r\n",
        "  Name                   : jabr85          \r\n",
        "  Objective sense        : max             \r\n",
        "  Type                   : CONIC (conic optimization problem)\r\n",
        "  Constraints            : 505             \r\n",
        "  Cones                  : 84              \r\n",
        "  Scalar variables       : 589             \r\n",
        "  Matrix variables       : 0               \r\n",
        "  Integer variables      : 0               \r\n",
        "\r\n",
        "Optimizer started.\r\n",
        "Conic interior-point optimizer started.\r\n",
        "Presolve started.\r\n",
        "Linear dependency checker started.\r\n",
        "Linear dependency checker terminated.\r\n",
        "Eliminator - tries                  : 0                 time                   : 0.00            \r\n",
        "Eliminator - elim's                 : 0               \r\n",
        "Lin. dep.  - tries                  : 1                 time                   : 0.00            \r\n",
        "Lin. dep.  - number                 : 0               \r\n",
        "Presolve terminated. Time: 0.00    \r\n",
        "Optimizer  - threads                : 4               \r\n",
        "Optimizer  - solved problem         : the primal      \r\n",
        "Optimizer  - Constraints            : 251\r\n",
        "Optimizer  - Cones                  : 84\r\n",
        "Optimizer  - Scalar variables       : 336               conic                  : 336             \r\n",
        "Optimizer  - Semi-definite variables: 0                 scalarized             : 0               \r\n",
        "Factor     - setup time             : 0.00              dense det. time        : 0.00            \r\n",
        "Factor     - ML order time          : 0.00              GP order time          : 0.00            \r\n",
        "Factor     - nonzeros before factor : 1273              after factor           : 1273            \r\n",
        "Factor     - dense dim.             : 0                 flops                  : 2.26e+04        \r\n",
        "ITE PFEAS    DFEAS    GFEAS    PRSTATUS   POBJ              DOBJ              MU       TIME  \r\n",
        "0   1.0e+00  1.0e+00  1.0e+00  0.00e+00   0.000000000e+00   0.000000000e+00   1.0e+00  0.00  \r\n",
        "1   6.1e-01  6.1e-01  6.1e-01  -4.60e+00  8.477845234e+01   2.824653941e+01   6.1e-01  0.00  \r\n",
        "2   3.4e-01  3.4e-01  3.4e-01  -1.06e+01  5.070341405e+01   2.007517679e+01   3.4e-01  0.00  \r\n",
        "3   6.7e-02  6.7e-02  6.7e-02  -1.38e+00  4.039307761e+02   1.596156053e+02   6.7e-02  0.01  \r\n",
        "4   2.1e-02  2.1e-02  2.1e-02  -1.10e+00  1.445289429e+03   5.712249442e+02   2.1e-02  0.01  \r\n",
        "5   6.2e-03  6.2e-03  6.2e-03  -9.96e-01  5.253595021e+03   2.085203699e+03   6.2e-03  0.01  \r\n",
        "6   2.2e-03  2.2e-03  2.2e-03  -9.15e-01  1.432572169e+04   5.793219466e+03   2.2e-03  0.01  \r\n",
        "7   1.2e-03  1.2e-03  1.2e-03  -7.33e-01  2.213110991e+04   9.734519201e+03   1.2e-03  0.01  \r\n",
        "8   5.1e-04  5.1e-04  5.1e-04  -2.90e-01  2.415793336e+04   1.400785686e+04   5.1e-04  0.01  \r\n",
        "9   2.3e-04  2.3e-04  2.3e-04  4.58e-01   1.396754493e+04   7.211908976e+03   2.3e-04  0.01  \r\n",
        "10  7.9e-05  7.9e-05  7.9e-05  1.02e+00   6.534856334e+03   4.333852555e+03   7.9e-05  0.01  \r\n",
        "11  4.4e-05  4.4e-05  4.4e-05  6.60e-01   4.814447535e+03   2.878796787e+03   4.4e-05  0.01  \r\n",
        "12  1.9e-05  1.9e-05  1.9e-05  1.03e+00   2.242768242e+03   1.548249361e+03   1.9e-05  0.01  \r\n",
        "13  1.2e-05  1.2e-05  1.2e-05  1.03e+00   1.604024197e+03   1.124085336e+03   1.2e-05  0.01  \r\n",
        "14  5.2e-06  5.2e-06  5.2e-06  1.23e+00   7.390206850e+02   5.735338652e+02   5.2e-06  0.01  \r\n",
        "15  2.5e-06  2.5e-06  2.5e-06  1.33e+00   4.056634974e+02   3.394780599e+02   2.5e-06  0.01  \r\n",
        "16  2.1e-06  2.1e-06  2.1e-06  1.18e+00   3.627185741e+02   3.043177055e+02   2.1e-06  0.01  \r\n",
        "17  8.3e-07  8.3e-07  8.3e-07  1.36e+00   1.871246712e+02   1.723144385e+02   8.3e-07  0.01  \r\n",
        "18  6.1e-07  6.1e-07  6.1e-07  1.02e+00   1.657638441e+02   1.526974681e+02   6.1e-07  0.02  \r\n",
        "19  1.7e-07  1.7e-07  1.7e-07  1.33e+00   9.755334996e+01   9.521460224e+01   1.7e-07  0.02  \r\n",
        "20  6.1e-08  6.1e-08  6.1e-08  1.02e+00   8.072705171e+01   7.988264719e+01   6.1e-08  0.02  \r\n",
        "21  1.1e-08  1.1e-08  1.1e-08  1.01e+00   7.171348073e+01   7.156780290e+01   1.1e-08  0.02  \r\n",
        "22  2.0e-09  2.0e-09  2.0e-09  9.99e-01   6.982894815e+01   6.980785652e+01   2.0e-09  0.02  \r\n",
        "23  1.3e-10  1.3e-10  1.3e-10  9.99e-01   6.943197565e+01   6.943063291e+01   1.3e-10  0.02  \r\n",
        "24  7.7e-12  7.7e-12  6.6e-12  9.99e-01   6.940637907e+01   6.940629886e+01   7.7e-12  0.02  \r\n",
        "25  7.7e-12  7.7e-12  6.6e-12  1.00e+00   6.940637907e+01   6.940629886e+01   7.7e-12  0.02  \r\n",
        "Interior-point optimizer terminated. Time: 0.02. \r\n",
        "\r\n",
        "Optimizer terminated. Time: 0.02    \r\n"
       ]
      }
     ],
     "prompt_number": 32
    },
    {
     "cell_type": "code",
     "collapsed": false,
     "input": [
      "!head wtf.sol"
     ],
     "language": "python",
     "metadata": {},
     "outputs": [
      {
       "output_type": "stream",
       "stream": "stdout",
       "text": [
        "NAME                : jabr85\r\n",
        "PROBLEM STATUS      : UNKNOWN\r\n",
        "SOLUTION STATUS     : UNKNOWN\r\n",
        "OBJECTIVE NAME      : maxRsum\r\n",
        "PRIMAL OBJECTIVE    : 6.94063791e+01    \r\n",
        "DUAL OBJECTIVE      : 6.94062989e+01    \r\n",
        "\r\n",
        "CONSTRAINTS\r\n",
        "INDEX      NAME                     AT ACTIVITY                 LOWER LIMIT        UPPER LIMIT        DUAL LOWER               DUAL UPPER              \r\n",
        "0          u0[0]                    EQ 7.07106781186547e-01     7.07106781e-01     7.07106781e-01     -0.00000000000000e+00    -1.20316461612016e+02   \r\n"
       ]
      }
     ],
     "prompt_number": 33
    },
    {
     "cell_type": "markdown",
     "metadata": {},
     "source": [
      "#Stuff"
     ]
    },
    {
     "cell_type": "code",
     "collapsed": false,
     "input": [
      "from mosek.fusion import DenseMatrix, Model, Domain, Expr, ObjectiveSense"
     ],
     "language": "python",
     "metadata": {},
     "outputs": [],
     "prompt_number": 14
    },
    {
     "cell_type": "code",
     "collapsed": false,
     "input": [
      "r, x = .01, .1\n",
      "g, b = jabr.z2y(r, x)\n",
      "S2 = 2**.5"
     ],
     "language": "python",
     "metadata": {},
     "outputs": [],
     "prompt_number": 15
    },
    {
     "cell_type": "raw",
     "metadata": {},
     "source": [
      "    Areal = DenseMatrix(\n",
      "            [[0.,  g*S2,       0,     0,     0, -g,  0,  0,  0, -b,  0,  0,  0],\n",
      "             [0.,     0,  3*g*S2,     0,     0,  0, -g, -g, -g,  0, -b,  b,  b],\n",
      "             [0.,     0,       0,  g*S2,     0,  0,  0, -g,  0,  0,  0, -b,  0],\n",
      "             [0.,     0,       0,     0,  g*S2,  0,  0,  0, -g,  0,  0,  0, -b]]\n",
      "            )\n",
      "    Areac = DenseMatrix(\n",
      "            [[0., -b*S2,       0,     0,     0,  b,  0,  0,  0, -g,  0,  0,  0],\n",
      "             [0.,     0, -3*b*S2,     0,     0,  0,  b,  b,  b,  0, -g,  g,  g],\n",
      "             [0.,     0,       0, -b*S2,     0,  0,  0,  b,  0,  0,  0, -g,  0],\n",
      "             [0.,     0,       0,     0, -b*S2,  0,  0,  0,  b,  0,  0,  0, -g]]"
     ]
    },
    {
     "cell_type": "code",
     "collapsed": false,
     "input": [
      "def assemble():\n",
      "    Areal = DenseMatrix(\n",
      "            [[0.,  g*S2,       0,     0,     0, -g,  0,  0,  0,  b,  0,  0,  0],\n",
      "             [0.,     0,  3*g*S2,     0,     0,  0, -g, -g, -g,  0,  b, -b, -b],\n",
      "             [0.,     0,       0,  g*S2,     0,  0,  0, -g,  0,  0,  0,  b,  0],\n",
      "             [0.,     0,       0,     0,  g*S2,  0,  0,  0, -g,  0,  0,  0,  b]]\n",
      "            )\n",
      "    Areac = DenseMatrix(\n",
      "            [[0., -b*S2,       0,     0,     0,  b,  0,  0,  0,  g,  0,  0,  0],\n",
      "             [0.,     0, -3*b*S2,     0,     0,  0,  b,  b,  b,  0,  g, -g, -g],\n",
      "             [0.,     0,       0, -b*S2,     0,  0,  0,  b,  0,  0,  0,  g,  0],\n",
      "             [0.,     0,       0,     0, -b*S2,  0,  0,  0,  b,  0,  0,  0,  g]]\n",
      "            )\n",
      "    P = [-1.,-1.,-1.,-1.]\n",
      "    Q = [-.1,-.1,-.1,-.1]\n",
      "    branches = [(0,1,0), (0,2,1), (2,3,2), (2,4,3)]\n",
      "    return Areal, Areac, P, Q, branches"
     ],
     "language": "python",
     "metadata": {},
     "outputs": [],
     "prompt_number": 16
    },
    {
     "cell_type": "code",
     "collapsed": false,
     "input": [
      "def solve(assemble):\n",
      "    Areal, Areac, P, Q, branches = assemble()\n",
      "    with Model('jabr') as M:\n",
      "        u = M.variable(\"u\", 5, Domain.greaterThan(0.0))\n",
      "        R = M.variable(\"R\", 4, Domain.greaterThan(0.0))\n",
      "        I = M.variable(\"I\", 4, Domain.unbounded())\n",
      "        \n",
      "        expr = lambda x: x.asExpr()\n",
      "        def cone_constraint(fbus, tbus, branch):    \n",
      "            x = Expr.vstack(map(expr, [u.index(fbus), u.index(tbus), R.index(branch), I.index(branch)]))\n",
      "            M.constraint(\"cone%d_%d\" % (fbus, tbus), x, Domain.inRotatedQCone())\n",
      "        \n",
      "        M.constraint(\"u0\",  u.index(0).asExpr(), Domain.equalsTo(1/S2))\n",
      "        for fbus, tbus, branch in branches:\n",
      "            cone_constraint(fbus, tbus, branch)\n",
      "\n",
      "        M.constraint(\"flow_real\", Expr.mul(Areal, Expr.vstack(u,R,I)), Domain.equalsTo(P))\n",
      "        M.constraint(\"flow_reac\", Expr.mul(Areac, Expr.vstack(u,R,I)), Domain.equalsTo(Q))\n",
      "    \n",
      "        M.objective(\"maxRsum\", ObjectiveSense.Maximize, Expr.sum(R))\n",
      "        M.solve()\n",
      "        return map(array, (u.level(), R.level(), I.level()))"
     ],
     "language": "python",
     "metadata": {},
     "outputs": [],
     "prompt_number": 17
    },
    {
     "cell_type": "code",
     "collapsed": false,
     "input": [
      "set_printoptions(precision=4, linewidth=100)\n",
      "ans = solve(assemble)\n",
      "for x in ans:\n",
      "    print(x)\n",
      "u = ans[0]\n",
      "V = (S2 * array(u))**.5\n",
      "print(V)"
     ],
     "language": "python",
     "metadata": {},
     "outputs": [
      {
       "output_type": "stream",
       "stream": "stdout",
       "text": [
        "[ 0.7071  0.6712  0.4725  0.4324  0.4324]\n",
        "[ 0.9693  0.7616  0.6315  0.6315]\n",
        "[ 0.099  0.297  0.099  0.099]\n",
        "[ 1.      0.9743  0.8175  0.782   0.782 ]\n"
       ]
      }
     ],
     "prompt_number": 18
    },
    {
     "cell_type": "code",
     "collapsed": false,
     "input": [],
     "language": "python",
     "metadata": {},
     "outputs": []
    }
   ],
   "metadata": {}
  }
 ]
}