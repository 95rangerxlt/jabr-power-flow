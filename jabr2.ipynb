{
 "metadata": {
  "name": ""
 },
 "nbformat": 3,
 "nbformat_minor": 0,
 "worksheets": [
  {
   "cells": [
    {
     "cell_type": "code",
     "collapsed": false,
     "input": [
      "from loadcase import load_case\n",
      "from numpy import set_printoptions, array\n",
      "import jabr"
     ],
     "language": "python",
     "metadata": {},
     "outputs": [],
     "prompt_number": 4
    },
    {
     "cell_type": "code",
     "collapsed": false,
     "input": [
      "set_printoptions(precision=1, linewidth=100)\n",
      "def disp_case(c):\n",
      "    print(c.branch_list)\n",
      "    print(c.i2e)\n",
      "    print(c.demands)\n",
      "    print(c.B.todense())"
     ],
     "language": "python",
     "metadata": {},
     "outputs": []
    },
    {
     "cell_type": "code",
     "collapsed": false,
     "input": [
      "c = load_case('case5_with_q.m')\n",
      "disp_case(c)"
     ],
     "language": "python",
     "metadata": {},
     "outputs": [
      {
       "output_type": "stream",
       "stream": "stdout",
       "text": [
        "[(0, 2), (0, 3), (1, 3), (3, 4)]\n",
        "[5, 1, 2, 3, 4]\n",
        "[0j, (1+0.1j), (1+0.1j), (1+0.1j), (1+0.1j)]\n",
        "[[ 0.   0.  -9.9 -9.9  0. ]\n",
        " [ 0.   0.   0.  -9.9  0. ]\n",
        " [-9.9  0.   0.   0.   0. ]\n",
        " [-9.9 -9.9  0.   0.  -9.9]\n",
        " [ 0.   0.   0.  -9.9  0. ]]\n"
       ]
      }
     ],
     "prompt_number": 27
    },
    {
     "cell_type": "code",
     "collapsed": false,
     "input": [
      "vars(c).keys()"
     ],
     "language": "python",
     "metadata": {},
     "outputs": [
      {
       "metadata": {},
       "output_type": "pyout",
       "prompt_number": 28,
       "text": [
        "['B', 'G', 'demands', 'vhat', 'branch_list', 'branch_map', 'i2e']"
       ]
      }
     ],
     "prompt_number": 28
    },
    {
     "cell_type": "code",
     "collapsed": false,
     "input": [
      "c = load_case('case9_tree.m')\n",
      "disp_case(c)"
     ],
     "language": "python",
     "metadata": {},
     "outputs": [
      {
       "output_type": "stream",
       "stream": "stdout",
       "text": [
        "[(0, 3), (1, 7), (2, 5), (3, 4), (3, 8), (4, 5), (6, 7), (7, 8)]\n",
        "[1, 2, 3, 4, 5, 6, 7, 8, 9]\n",
        "[0j, (-163-82.5j), (-85-23.7825j), 0j, (90+30j), 0j, (100+35j), 0j, (125+50j)]\n",
        "[[    0.         0.         0.     -1736.1111     0.         0.         0.         0.         0.    ]\n",
        " [    0.         0.         0.         0.         0.         0.         0.     -1600.         0.    ]\n",
        " [    0.         0.         0.         0.         0.     -1706.4846     0.         0.         0.    ]\n",
        " [-1736.1111     0.         0.         0.     -1051.0682     0.         0.         0.     -1160.4096]\n",
        " [    0.         0.         0.     -1051.0682     0.      -558.8245     0.         0.         0.    ]\n",
        " [    0.         0.     -1706.4846     0.      -558.8245     0.         0.         0.         0.    ]\n",
        " [    0.         0.         0.         0.         0.         0.         0.     -1369.7979     0.    ]\n",
        " [    0.     -1600.         0.         0.         0.         0.     -1369.7979     0.      -597.5135]\n",
        " [    0.         0.         0.     -1160.4096     0.         0.         0.      -597.5135     0.    ]]\n"
       ]
      }
     ],
     "prompt_number": 112
    },
    {
     "cell_type": "code",
     "collapsed": false,
     "input": [
      "real, reac = jabr.build_U_matrices(c.G, c.B) #, c.branch_map)"
     ],
     "language": "python",
     "metadata": {},
     "outputs": [],
     "prompt_number": 120
    },
    {
     "cell_type": "code",
     "collapsed": false,
     "input": [
      "set_printoptions(precision=1, linewidth=100)\n",
      "real, reac"
     ],
     "language": "python",
     "metadata": {},
     "outputs": [
      {
       "metadata": {},
       "output_type": "pyout",
       "prompt_number": 126,
       "text": [
        "(<8x9 sparse matrix of type '<type 'numpy.float64'>'\n",
        "\twith 6 stored elements in Dictionary Of Keys format>,\n",
        " <8x9 sparse matrix of type '<type 'numpy.float64'>'\n",
        "\twith 8 stored elements in Dictionary Of Keys format>)"
       ]
      }
     ],
     "prompt_number": 126
    },
    {
     "cell_type": "markdown",
     "metadata": {},
     "source": [
      "#Stuff0"
     ]
    },
    {
     "cell_type": "code",
     "collapsed": false,
     "input": [
      "%load_ext autoreload\n",
      "%autoreload 2"
     ],
     "language": "python",
     "metadata": {},
     "outputs": [],
     "prompt_number": 1
    },
    {
     "cell_type": "code",
     "collapsed": false,
     "input": [
      "from jabr import *\n",
      "from loadcase import load_case, load_branches\n",
      "from scipy.sparse import vstack\n",
      "from numpy import set_printoptions"
     ],
     "language": "python",
     "metadata": {},
     "outputs": [],
     "prompt_number": 6
    },
    {
     "cell_type": "code",
     "collapsed": false,
     "input": [
      "c = load_case('case14_matpower.m')\n",
      "u, R, I = build_mosek_model(c)\n",
      "Vhat = recover_original_variables(u, R, I)\n",
      "set_printoptions(precision=4, linewidth=100)\n",
      "print(Vhat)"
     ],
     "language": "python",
     "metadata": {},
     "outputs": [
      {
       "output_type": "stream",
       "stream": "stdout",
       "text": [
        "[ 1.06    1.045   1.01    0.881   0.8999  0.9269  0.87    0.939   0.8291  0.8196  0.9194  0.9141\n",
        "  0.9087  0.7867]\n"
       ]
      }
     ],
     "prompt_number": 7
    },
    {
     "cell_type": "raw",
     "metadata": {},
     "source": [
      "         1.06\n",
      "        1.045\n",
      "         1.01\n",
      "      0.96782\n",
      "      0.97411\n",
      "         1.07\n",
      "       1.0306\n",
      "         1.09\n",
      "       1.0199\n",
      "       1.0122\n",
      "       1.0635\n",
      "        1.059\n",
      "       1.0543\n",
      "      0.98642"
     ]
    },
    {
     "cell_type": "code",
     "collapsed": false,
     "input": [
      "!tail -n60 mosek.log"
     ],
     "language": "python",
     "metadata": {},
     "outputs": [
      {
       "output_type": "stream",
       "stream": "stdout",
       "text": [
        "17  8.4e-11  1.2e-10  5.8e-11  1.00e+00   9.335334644e+00   9.335333670e+00   8.4e-11  0.01  \r\n",
        "Interior-point optimizer terminated. Time: 0.01. \r\n",
        "\r\n",
        "Optimizer terminated. Time: 0.01    \r\n",
        "Computer\r\n",
        "  Platform               : MACOSX/64-X86   \r\n",
        "  Cores                  : 4               \r\n",
        "\r\n",
        "Problem\r\n",
        "  Name                   : jabr14          \r\n",
        "  Objective sense        : max             \r\n",
        "  Type                   : CONIC (conic optimization problem)\r\n",
        "  Constraints            : 79              \r\n",
        "  Cones                  : 13              \r\n",
        "  Scalar variables       : 92              \r\n",
        "  Matrix variables       : 0               \r\n",
        "  Integer variables      : 0               \r\n",
        "\r\n",
        "Optimizer started.\r\n",
        "Conic interior-point optimizer started.\r\n",
        "Presolve started.\r\n",
        "Linear dependency checker started.\r\n",
        "Linear dependency checker terminated.\r\n",
        "Eliminator - tries                  : 0                 time                   : 0.00            \r\n",
        "Eliminator - elim's                 : 0               \r\n",
        "Lin. dep.  - tries                  : 1                 time                   : 0.00            \r\n",
        "Lin. dep.  - number                 : 0               \r\n",
        "Presolve terminated. Time: 0.00    \r\n",
        "Optimizer  - threads                : 4               \r\n",
        "Optimizer  - solved problem         : the primal      \r\n",
        "Optimizer  - Constraints            : 36\r\n",
        "Optimizer  - Cones                  : 13\r\n",
        "Optimizer  - Scalar variables       : 51                conic                  : 51              \r\n",
        "Optimizer  - Semi-definite variables: 0                 scalarized             : 0               \r\n",
        "Factor     - setup time             : 0.00              dense det. time        : 0.00            \r\n",
        "Factor     - ML order time          : 0.00              GP order time          : 0.00            \r\n",
        "Factor     - nonzeros before factor : 166               after factor           : 166             \r\n",
        "Factor     - dense dim.             : 0                 flops                  : 2.85e+03        \r\n",
        "ITE PFEAS    DFEAS    GFEAS    PRSTATUS   POBJ              DOBJ              MU       TIME  \r\n",
        "0   1.0e+00  1.4e+00  5.0e-01  0.00e+00   9.352756201e-01   -6.472437985e-02  1.0e+00  0.00  \r\n",
        "1   2.8e-01  4.0e-01  1.4e-01  -2.27e+00  1.224278141e+01   6.522579496e+00   2.8e-01  0.00  \r\n",
        "2   8.0e-02  1.1e-01  4.0e-02  -1.08e+00  4.570965996e+01   2.706393599e+01   8.0e-02  0.00  \r\n",
        "3   2.4e-02  3.4e-02  1.2e-02  -8.11e-01  1.242971726e+02   7.745815294e+01   2.4e-02  0.00  \r\n",
        "4   8.2e-03  1.2e-02  4.1e-03  -2.70e-01  1.124291657e+02   8.219404904e+01   8.2e-03  0.00  \r\n",
        "5   3.5e-03  5.0e-03  1.8e-03  1.13e+00   5.477842582e+01   4.539299240e+01   3.5e-03  0.00  \r\n",
        "6   2.1e-03  2.9e-03  1.0e-03  9.40e-01   4.055394486e+01   3.339628871e+01   2.1e-03  0.00  \r\n",
        "7   5.7e-04  8.1e-04  2.9e-04  1.39e+00   1.957757184e+01   1.831392019e+01   5.7e-04  0.00  \r\n",
        "8   2.6e-04  3.7e-04  1.3e-04  9.32e-01   1.555593127e+01   1.478261857e+01   2.6e-04  0.00  \r\n",
        "9   8.1e-05  1.1e-04  4.0e-05  1.02e+00   1.221641207e+01   1.193902180e+01   8.1e-05  0.00  \r\n",
        "10  4.0e-05  5.7e-05  2.0e-05  6.07e-01   1.125490429e+01   1.104774522e+01   4.0e-05  0.00  \r\n",
        "11  8.8e-06  1.2e-05  4.4e-06  7.93e-01   1.000959467e+01   9.946339479e+00   8.8e-06  0.00  \r\n",
        "12  2.4e-06  3.4e-06  1.2e-06  6.91e-01   9.591172536e+00   9.565568207e+00   2.4e-06  0.00  \r\n",
        "13  6.4e-07  9.0e-07  3.2e-07  8.23e-01   9.413882910e+00   9.406310473e+00   6.4e-07  0.00  \r\n",
        "14  2.1e-07  3.0e-07  1.1e-07  9.04e-01   9.362430290e+00   9.359966668e+00   2.1e-07  0.01  \r\n",
        "15  1.5e-08  2.1e-08  7.5e-09  9.76e-01   9.337268887e+00   9.337093864e+00   1.5e-08  0.01  \r\n",
        "16  8.7e-10  1.2e-09  4.3e-10  9.98e-01   9.335437687e+00   9.335427526e+00   8.7e-10  0.01  \r\n",
        "17  8.4e-11  1.2e-10  5.8e-11  1.00e+00   9.335334644e+00   9.335333670e+00   8.4e-11  0.01  \r\n",
        "Interior-point optimizer terminated. Time: 0.01. \r\n",
        "\r\n",
        "Optimizer terminated. Time: 0.01    \r\n"
       ]
      }
     ],
     "prompt_number": 11
    },
    {
     "cell_type": "markdown",
     "metadata": {},
     "source": [
      "#Stuff"
     ]
    },
    {
     "cell_type": "code",
     "collapsed": false,
     "input": [
      "from mosek.fusion import DenseMatrix, Model, Domain, Expr, ObjectiveSense"
     ],
     "language": "python",
     "metadata": {},
     "outputs": [],
     "prompt_number": 65
    },
    {
     "cell_type": "code",
     "collapsed": false,
     "input": [
      "r, x = .01, .1\n",
      "g, b = jabr.z2y(r, x)\n",
      "S2 = 2**.5"
     ],
     "language": "python",
     "metadata": {},
     "outputs": [],
     "prompt_number": 66
    },
    {
     "cell_type": "raw",
     "metadata": {},
     "source": [
      "    Areal = DenseMatrix(\n",
      "            [[0.,  g*S2,       0,     0,     0, -g,  0,  0,  0, -b,  0,  0,  0],\n",
      "             [0.,     0,  3*g*S2,     0,     0,  0, -g, -g, -g,  0, -b,  b,  b],\n",
      "             [0.,     0,       0,  g*S2,     0,  0,  0, -g,  0,  0,  0, -b,  0],\n",
      "             [0.,     0,       0,     0,  g*S2,  0,  0,  0, -g,  0,  0,  0, -b]]\n",
      "            )\n",
      "    Areac = DenseMatrix(\n",
      "            [[0., -b*S2,       0,     0,     0,  b,  0,  0,  0, -g,  0,  0,  0],\n",
      "             [0.,     0, -3*b*S2,     0,     0,  0,  b,  b,  b,  0, -g,  g,  g],\n",
      "             [0.,     0,       0, -b*S2,     0,  0,  0,  b,  0,  0,  0, -g,  0],\n",
      "             [0.,     0,       0,     0, -b*S2,  0,  0,  0,  b,  0,  0,  0, -g]]"
     ]
    },
    {
     "cell_type": "code",
     "collapsed": false,
     "input": [
      "def assemble():\n",
      "    Areal = DenseMatrix(\n",
      "            [[0.,  g*S2,       0,     0,     0, -g,  0,  0,  0,  b,  0,  0,  0],\n",
      "             [0.,     0,  3*g*S2,     0,     0,  0, -g, -g, -g,  0,  b, -b, -b],\n",
      "             [0.,     0,       0,  g*S2,     0,  0,  0, -g,  0,  0,  0,  b,  0],\n",
      "             [0.,     0,       0,     0,  g*S2,  0,  0,  0, -g,  0,  0,  0,  b]]\n",
      "            )\n",
      "    Areac = DenseMatrix(\n",
      "            [[0., -b*S2,       0,     0,     0,  b,  0,  0,  0,  g,  0,  0,  0],\n",
      "             [0.,     0, -3*b*S2,     0,     0,  0,  b,  b,  b,  0,  g, -g, -g],\n",
      "             [0.,     0,       0, -b*S2,     0,  0,  0,  b,  0,  0,  0,  g,  0],\n",
      "             [0.,     0,       0,     0, -b*S2,  0,  0,  0,  b,  0,  0,  0,  g]]\n",
      "            )\n",
      "    P = [-1.,-1.,-1.,-1.]\n",
      "    Q = [-.1,-.1,-.1,-.1]\n",
      "    branches = [(0,1,0), (0,2,1), (2,3,2), (2,4,3)]\n",
      "    return Areal, Areac, P, Q, branches"
     ],
     "language": "python",
     "metadata": {},
     "outputs": [],
     "prompt_number": 5
    },
    {
     "cell_type": "code",
     "collapsed": false,
     "input": [
      "def solve(assemble):\n",
      "    Areal, Areac, P, Q, branches = assemble()\n",
      "    with Model('jabr') as M:\n",
      "        u = M.variable(\"u\", 5, Domain.greaterThan(0.0))\n",
      "        R = M.variable(\"R\", 4, Domain.greaterThan(0.0))\n",
      "        I = M.variable(\"I\", 4, Domain.unbounded())\n",
      "        \n",
      "        expr = lambda x: x.asExpr()\n",
      "        def cone_constraint(fbus, tbus, branch):    \n",
      "            x = Expr.vstack(map(expr, [u.index(fbus), u.index(tbus), R.index(branch), I.index(branch)]))\n",
      "            M.constraint(\"cone%d_%d\" % (fbus, tbus), x, Domain.inRotatedQCone())\n",
      "        \n",
      "        M.constraint(\"u0\",  u.index(0).asExpr(), Domain.equalsTo(1/S2))\n",
      "        for fbus, tbus, branch in branches:\n",
      "            cone_constraint(fbus, tbus, branch)\n",
      "\n",
      "        M.constraint(\"flow_real\", Expr.mul(Areal, Expr.vstack(u,R,I)), Domain.equalsTo(P))\n",
      "        M.constraint(\"flow_reac\", Expr.mul(Areac, Expr.vstack(u,R,I)), Domain.equalsTo(Q))\n",
      "    \n",
      "        M.objective(\"maxRsum\", ObjectiveSense.Maximize, Expr.sum(R))\n",
      "        M.solve()\n",
      "        return map(array, (u.level(), R.level(), I.level()))"
     ],
     "language": "python",
     "metadata": {},
     "outputs": [],
     "prompt_number": 167
    },
    {
     "cell_type": "code",
     "collapsed": false,
     "input": [
      "set_printoptions(precision=4, linewidth=100)\n",
      "ans = solve(assemble)\n",
      "for x in ans:\n",
      "    print(x)\n",
      "u = ans[0]\n",
      "V = (S2 * array(u))**.5\n",
      "print(V)"
     ],
     "language": "python",
     "metadata": {},
     "outputs": [
      {
       "output_type": "stream",
       "stream": "stdout",
       "text": [
        "[ 0.7071  0.6712  0.4949  0.4696  0.4554]\n",
        "[ 0.9693  0.7813  0.6743  0.664 ]\n",
        "[ 0.099  0.299  0.101  0.099]\n",
        "[ 1.      0.9743  0.8366  0.815   0.8025]"
       ]
      },
      {
       "output_type": "stream",
       "stream": "stdout",
       "text": [
        "\n"
       ]
      }
     ],
     "prompt_number": 168
    }
   ],
   "metadata": {}
  }
 ]
}