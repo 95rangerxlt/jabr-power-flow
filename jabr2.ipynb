{
 "metadata": {
  "name": ""
 },
 "nbformat": 3,
 "nbformat_minor": 0,
 "worksheets": [
  {
   "cells": [
    {
     "cell_type": "code",
     "collapsed": false,
     "input": [
      "from loadcase import load_case\n",
      "from numpy import set_printoptions, array\n",
      "import jabr"
     ],
     "language": "python",
     "metadata": {},
     "outputs": [],
     "prompt_number": 3
    },
    {
     "cell_type": "code",
     "collapsed": false,
     "input": [
      "set_printoptions(precision=1, linewidth=100)\n",
      "def disp_case(c):\n",
      "    print(c.branch_list)\n",
      "    print(c.i2e)\n",
      "    print(c.demands)\n",
      "    print(c.B.todense())"
     ],
     "language": "python",
     "metadata": {},
     "outputs": [],
     "prompt_number": 4
    },
    {
     "cell_type": "code",
     "collapsed": false,
     "input": [
      "c = load_case('case5_with_q.m')\n",
      "disp_case(c)"
     ],
     "language": "python",
     "metadata": {},
     "outputs": [
      {
       "output_type": "stream",
       "stream": "stdout",
       "text": [
        "[(0, 2), (0, 3), (1, 3), (3, 4)]\n",
        "[5, 1, 2, 3, 4]\n",
        "[0j, (1+0.1j), (1+0.1j), (1+0.1j), (1+0.1j)]\n",
        "[[ 0.   0.  -9.9 -9.9  0. ]\n",
        " [ 0.   0.   0.  -9.9  0. ]\n",
        " [-9.9  0.   0.   0.   0. ]\n",
        " [-9.9 -9.9  0.   0.  -9.9]\n",
        " [ 0.   0.   0.  -9.9  0. ]]\n"
       ]
      }
     ],
     "prompt_number": 27
    },
    {
     "cell_type": "code",
     "collapsed": false,
     "input": [
      "vars(c).keys()"
     ],
     "language": "python",
     "metadata": {},
     "outputs": [
      {
       "metadata": {},
       "output_type": "pyout",
       "prompt_number": 28,
       "text": [
        "['B', 'G', 'demands', 'vhat', 'branch_list', 'branch_map', 'i2e']"
       ]
      }
     ],
     "prompt_number": 28
    },
    {
     "cell_type": "code",
     "collapsed": false,
     "input": [
      "c = load_case('case9_tree.m')\n",
      "disp_case(c)"
     ],
     "language": "python",
     "metadata": {},
     "outputs": [
      {
       "output_type": "stream",
       "stream": "stdout",
       "text": [
        "[(0, 3), (1, 7), (2, 5), (3, 4), (3, 8), (4, 5), (6, 7), (7, 8)]\n",
        "[1, 2, 3, 4, 5, 6, 7, 8, 9]\n",
        "[0j, (-163-82.5j), (-85-23.7825j), 0j, (90+30j), 0j, (100+35j), 0j, (125+50j)]\n",
        "[[    0.         0.         0.     -1736.1111     0.         0.         0.         0.         0.    ]\n",
        " [    0.         0.         0.         0.         0.         0.         0.     -1600.         0.    ]\n",
        " [    0.         0.         0.         0.         0.     -1706.4846     0.         0.         0.    ]\n",
        " [-1736.1111     0.         0.         0.     -1051.0682     0.         0.         0.     -1160.4096]\n",
        " [    0.         0.         0.     -1051.0682     0.      -558.8245     0.         0.         0.    ]\n",
        " [    0.         0.     -1706.4846     0.      -558.8245     0.         0.         0.         0.    ]\n",
        " [    0.         0.         0.         0.         0.         0.         0.     -1369.7979     0.    ]\n",
        " [    0.     -1600.         0.         0.         0.         0.     -1369.7979     0.      -597.5135]\n",
        " [    0.         0.         0.     -1160.4096     0.         0.         0.      -597.5135     0.    ]]\n"
       ]
      }
     ],
     "prompt_number": 112
    },
    {
     "cell_type": "code",
     "collapsed": false,
     "input": [
      "real, reac = jabr.build_U_matrices(c.G, c.B) #, c.branch_map)"
     ],
     "language": "python",
     "metadata": {},
     "outputs": [],
     "prompt_number": 120
    },
    {
     "cell_type": "code",
     "collapsed": false,
     "input": [
      "set_printoptions(precision=1, linewidth=100)\n",
      "real, reac"
     ],
     "language": "python",
     "metadata": {},
     "outputs": [
      {
       "metadata": {},
       "output_type": "pyout",
       "prompt_number": 126,
       "text": [
        "(<8x9 sparse matrix of type '<type 'numpy.float64'>'\n",
        "\twith 6 stored elements in Dictionary Of Keys format>,\n",
        " <8x9 sparse matrix of type '<type 'numpy.float64'>'\n",
        "\twith 8 stored elements in Dictionary Of Keys format>)"
       ]
      }
     ],
     "prompt_number": 126
    },
    {
     "cell_type": "markdown",
     "metadata": {},
     "source": [
      "#Stuff0"
     ]
    },
    {
     "cell_type": "markdown",
     "metadata": {},
     "source": [
      "**YOU HAVE CPLEX NOW**"
     ]
    },
    {
     "cell_type": "code",
     "collapsed": false,
     "input": [
      "from jabr import *\n",
      "from loadcase import load_case, load_branches\n",
      "from scipy.sparse import vstack\n",
      "from numpy import set_printoptions, array"
     ],
     "language": "python",
     "metadata": {},
     "outputs": [],
     "prompt_number": 5
    },
    {
     "cell_type": "code",
     "collapsed": false,
     "input": [
      "#c = load_case('case118_v2.m')\n",
      "c = load_case('case85_Q.m')\n",
      "u, R, I = build_mosek_model(c)\n",
      "Vhat = recover_original_variables(u, R, I)\n",
      "set_printoptions(precision=4, linewidth=100)\n",
      "print(Vhat)"
     ],
     "language": "python",
     "metadata": {},
     "outputs": [
      {
       "ename": "SolutionError",
       "evalue": "mosek failed to converge: PRIMAL_INFEASIBLE_CER (check log)",
       "output_type": "pyerr",
       "traceback": [
        "\u001b[0;31m---------------------------------------------------------------------------\u001b[0m\n\u001b[0;31mSolutionError\u001b[0m                             Traceback (most recent call last)",
        "\u001b[0;32m<ipython-input-6-d22d34c03071>\u001b[0m in \u001b[0;36m<module>\u001b[0;34m()\u001b[0m\n\u001b[1;32m      1\u001b[0m \u001b[0;31m#c = load_case('case118_v2.m')\u001b[0m\u001b[0;34m\u001b[0m\u001b[0;34m\u001b[0m\u001b[0m\n\u001b[1;32m      2\u001b[0m \u001b[0mc\u001b[0m \u001b[0;34m=\u001b[0m \u001b[0mload_case\u001b[0m\u001b[0;34m(\u001b[0m\u001b[0;34m'case85_Q.m'\u001b[0m\u001b[0;34m)\u001b[0m\u001b[0;34m\u001b[0m\u001b[0m\n\u001b[0;32m----> 3\u001b[0;31m \u001b[0mu\u001b[0m\u001b[0;34m,\u001b[0m \u001b[0mR\u001b[0m\u001b[0;34m,\u001b[0m \u001b[0mI\u001b[0m \u001b[0;34m=\u001b[0m \u001b[0mbuild_mosek_model\u001b[0m\u001b[0;34m(\u001b[0m\u001b[0mc\u001b[0m\u001b[0;34m)\u001b[0m\u001b[0;34m\u001b[0m\u001b[0m\n\u001b[0m\u001b[1;32m      4\u001b[0m \u001b[0mVhat\u001b[0m \u001b[0;34m=\u001b[0m \u001b[0mrecover_original_variables\u001b[0m\u001b[0;34m(\u001b[0m\u001b[0mu\u001b[0m\u001b[0;34m,\u001b[0m \u001b[0mR\u001b[0m\u001b[0;34m,\u001b[0m \u001b[0mI\u001b[0m\u001b[0;34m)\u001b[0m\u001b[0;34m\u001b[0m\u001b[0m\n\u001b[1;32m      5\u001b[0m \u001b[0mset_printoptions\u001b[0m\u001b[0;34m(\u001b[0m\u001b[0mprecision\u001b[0m\u001b[0;34m=\u001b[0m\u001b[0;36m4\u001b[0m\u001b[0;34m,\u001b[0m \u001b[0mlinewidth\u001b[0m\u001b[0;34m=\u001b[0m\u001b[0;36m100\u001b[0m\u001b[0;34m)\u001b[0m\u001b[0;34m\u001b[0m\u001b[0m\n",
        "\u001b[0;32m/Users/srharnett/Dropbox/power/jabr-power-flow/jabr.py\u001b[0m in \u001b[0;36mbuild_mosek_model\u001b[0;34m(case)\u001b[0m\n\u001b[1;32m    200\u001b[0m                 \u001b[0mout_file\u001b[0m\u001b[0;34m.\u001b[0m\u001b[0mwrite\u001b[0m\u001b[0;34m(\u001b[0m\u001b[0;34m\"\\nreturn code 22, whatever that means\\n\"\u001b[0m\u001b[0;34m)\u001b[0m\u001b[0;34m\u001b[0m\u001b[0m\n\u001b[1;32m    201\u001b[0m             \u001b[0mproblem_status\u001b[0m\u001b[0;34m,\u001b[0m \u001b[0msolution_status\u001b[0m\u001b[0;34m,\u001b[0m \u001b[0mu\u001b[0m\u001b[0;34m,\u001b[0m \u001b[0mR\u001b[0m\u001b[0;34m,\u001b[0m \u001b[0mI\u001b[0m \u001b[0;34m=\u001b[0m \u001b[0mparse_mosek_output_file\u001b[0m\u001b[0;34m(\u001b[0m\u001b[0mfilename\u001b[0m\u001b[0;34m)\u001b[0m\u001b[0;34m\u001b[0m\u001b[0m\n\u001b[0;32m--> 202\u001b[0;31m             \u001b[0;32mif\u001b[0m \u001b[0msolution_status\u001b[0m \u001b[0;32mnot\u001b[0m \u001b[0;32min\u001b[0m \u001b[0;34m(\u001b[0m\u001b[0;34m'OPTIMAL'\u001b[0m\u001b[0;34m,\u001b[0m \u001b[0;34m'NEAR_OPTIMAL'\u001b[0m\u001b[0;34m)\u001b[0m\u001b[0;34m:\u001b[0m\u001b[0;34m\u001b[0m\u001b[0m\n\u001b[0m\u001b[1;32m    203\u001b[0m                 \u001b[0;32mraise\u001b[0m \u001b[0mSolutionError\u001b[0m\u001b[0;34m(\u001b[0m\u001b[0;34m\"mosek failed to converge: %s (check log)\"\u001b[0m \u001b[0;34m%\u001b[0m \u001b[0msolution_status\u001b[0m\u001b[0;34m)\u001b[0m\u001b[0;34m\u001b[0m\u001b[0m\n\u001b[1;32m    204\u001b[0m             \u001b[0;32mreturn\u001b[0m \u001b[0mu\u001b[0m\u001b[0;34m,\u001b[0m \u001b[0mR\u001b[0m\u001b[0;34m,\u001b[0m \u001b[0mI\u001b[0m\u001b[0;34m\u001b[0m\u001b[0m\n",
        "\u001b[0;31mSolutionError\u001b[0m: mosek failed to converge: PRIMAL_INFEASIBLE_CER (check log)"
       ]
      }
     ],
     "prompt_number": 6
    },
    {
     "cell_type": "code",
     "collapsed": false,
     "input": [
      "!tail -n60 mosek.log"
     ],
     "language": "python",
     "metadata": {},
     "outputs": [
      {
       "output_type": "stream",
       "stream": "stdout",
       "text": [
        "\r\n",
        "2014-03-12 07:31:06.736808\r\n",
        "Open file 'mosek.opf'\r\n",
        "Start writing.\r\n",
        "done writing. Time: 0.00\r\n",
        "\r\n",
        "Computer\r\n",
        "  Platform               : MACOSX/64-X86   \r\n",
        "  Cores                  : 4               \r\n",
        "\r\n",
        "Problem\r\n",
        "  Name                   : jabr14          \r\n",
        "  Objective sense        : max             \r\n",
        "  Type                   : CONIC (conic optimization problem)\r\n",
        "  Constraints            : 79              \r\n",
        "  Cones                  : 13              \r\n",
        "  Scalar variables       : 92              \r\n",
        "  Matrix variables       : 0               \r\n",
        "  Integer variables      : 0               \r\n",
        "\r\n",
        "Optimizer started.\r\n",
        "Conic interior-point optimizer started.\r\n",
        "Presolve started.\r\n",
        "Linear dependency checker started.\r\n",
        "Linear dependency checker terminated.\r\n",
        "Eliminator - tries                  : 0                 time                   : 0.00            \r\n",
        "Eliminator - elim's                 : 0               \r\n",
        "Lin. dep.  - tries                  : 1                 time                   : 0.00            \r\n",
        "Lin. dep.  - number                 : 0               \r\n",
        "Presolve terminated. Time: 0.00    \r\n",
        "Optimizer  - threads                : 4               \r\n",
        "Optimizer  - solved problem         : the primal      \r\n",
        "Optimizer  - Constraints            : 36\r\n",
        "Optimizer  - Cones                  : 13\r\n",
        "Optimizer  - Scalar variables       : 51                conic                  : 51              \r\n",
        "Optimizer  - Semi-definite variables: 0                 scalarized             : 0               \r\n",
        "Factor     - setup time             : 0.00              dense det. time        : 0.00            \r\n",
        "Factor     - ML order time          : 0.00              GP order time          : 0.00            \r\n",
        "Factor     - nonzeros before factor : 166               after factor           : 166             \r\n",
        "Factor     - dense dim.             : 0                 flops                  : 2.85e+03        \r\n",
        "ITE PFEAS    DFEAS    GFEAS    PRSTATUS   POBJ              DOBJ              MU       TIME  \r\n",
        "0   1.0e+00  1.4e+00  5.0e-01  0.00e+00   9.352755883e-01   -6.472441173e-02  1.0e+00  0.00  \r\n",
        "1   2.7e-01  3.9e-01  1.4e-01  -2.18e+00  1.272620606e+01   7.087277219e+00   2.7e-01  0.00  \r\n",
        "2   8.0e-02  1.1e-01  4.0e-02  -1.06e+00  4.636083130e+01   2.846183790e+01   8.0e-02  0.00  \r\n",
        "3   2.4e-02  3.4e-02  1.2e-02  -8.06e-01  1.269790253e+02   8.176113584e+01   2.4e-02  0.00  \r\n",
        "4   7.8e-03  1.1e-02  3.9e-03  -2.51e-01  1.108206963e+02   8.337559499e+01   7.8e-03  0.00  \r\n",
        "5   3.4e-03  4.8e-03  1.7e-03  1.16e+00   5.470680832e+01   4.597561506e+01   3.4e-03  0.00  \r\n",
        "6   2.0e-03  2.8e-03  1.0e-03  9.34e-01   4.108455038e+01   3.435920317e+01   2.0e-03  0.00  \r\n",
        "7   5.4e-04  7.7e-04  2.7e-04  1.40e+00   2.010669454e+01   1.896006314e+01   5.4e-04  0.00  \r\n",
        "8   2.4e-04  3.4e-04  1.2e-04  9.35e-01   1.612798125e+01   1.545655796e+01   2.4e-04  0.01  \r\n",
        "9   7.0e-05  9.9e-05  3.5e-05  1.03e+00   1.294668282e+01   1.272710707e+01   7.0e-05  0.01  \r\n",
        "10  3.2e-05  4.6e-05  1.6e-05  6.98e-01   1.202915587e+01   1.189328341e+01   3.2e-05  0.01  \r\n",
        "11  5.2e-06  7.3e-06  2.6e-06  8.87e-01   1.108200519e+01   1.105615011e+01   5.2e-06  0.01  \r\n",
        "12  9.4e-07  1.3e-06  4.7e-07  8.99e-01   1.088057678e+01   1.087558349e+01   9.4e-07  0.01  \r\n",
        "13  8.0e-08  1.1e-07  4.0e-08  9.65e-01   1.083410242e+01   1.083370172e+01   8.0e-08  0.01  \r\n",
        "14  4.5e-09  6.4e-09  2.3e-09  9.98e-01   1.082992880e+01   1.082990616e+01   4.5e-09  0.01  \r\n",
        "15  7.2e-11  1.0e-10  2.0e-11  1.00e+00   1.082968085e+01   1.082968049e+01   7.2e-11  0.01  \r\n",
        "Interior-point optimizer terminated. Time: 0.01. \r\n",
        "\r\n",
        "Optimizer terminated. Time: 0.01    \r\n"
       ]
      }
     ],
     "prompt_number": 13
    },
    {
     "cell_type": "markdown",
     "metadata": {},
     "source": [
      "#Stuff"
     ]
    },
    {
     "cell_type": "code",
     "collapsed": false,
     "input": [
      "from mosek.fusion import DenseMatrix, Model, Domain, Expr, ObjectiveSense"
     ],
     "language": "python",
     "metadata": {},
     "outputs": [],
     "prompt_number": 65
    },
    {
     "cell_type": "code",
     "collapsed": false,
     "input": [
      "r, x = .01, .1\n",
      "g, b = jabr.z2y(r, x)\n",
      "S2 = 2**.5"
     ],
     "language": "python",
     "metadata": {},
     "outputs": [],
     "prompt_number": 66
    },
    {
     "cell_type": "raw",
     "metadata": {},
     "source": [
      "    Areal = DenseMatrix(\n",
      "            [[0.,  g*S2,       0,     0,     0, -g,  0,  0,  0, -b,  0,  0,  0],\n",
      "             [0.,     0,  3*g*S2,     0,     0,  0, -g, -g, -g,  0, -b,  b,  b],\n",
      "             [0.,     0,       0,  g*S2,     0,  0,  0, -g,  0,  0,  0, -b,  0],\n",
      "             [0.,     0,       0,     0,  g*S2,  0,  0,  0, -g,  0,  0,  0, -b]]\n",
      "            )\n",
      "    Areac = DenseMatrix(\n",
      "            [[0., -b*S2,       0,     0,     0,  b,  0,  0,  0, -g,  0,  0,  0],\n",
      "             [0.,     0, -3*b*S2,     0,     0,  0,  b,  b,  b,  0, -g,  g,  g],\n",
      "             [0.,     0,       0, -b*S2,     0,  0,  0,  b,  0,  0,  0, -g,  0],\n",
      "             [0.,     0,       0,     0, -b*S2,  0,  0,  0,  b,  0,  0,  0, -g]]"
     ]
    },
    {
     "cell_type": "code",
     "collapsed": false,
     "input": [
      "def assemble():\n",
      "    Areal = DenseMatrix(\n",
      "            [[0.,  g*S2,       0,     0,     0, -g,  0,  0,  0,  b,  0,  0,  0],\n",
      "             [0.,     0,  3*g*S2,     0,     0,  0, -g, -g, -g,  0,  b, -b, -b],\n",
      "             [0.,     0,       0,  g*S2,     0,  0,  0, -g,  0,  0,  0,  b,  0],\n",
      "             [0.,     0,       0,     0,  g*S2,  0,  0,  0, -g,  0,  0,  0,  b]]\n",
      "            )\n",
      "    Areac = DenseMatrix(\n",
      "            [[0., -b*S2,       0,     0,     0,  b,  0,  0,  0,  g,  0,  0,  0],\n",
      "             [0.,     0, -3*b*S2,     0,     0,  0,  b,  b,  b,  0,  g, -g, -g],\n",
      "             [0.,     0,       0, -b*S2,     0,  0,  0,  b,  0,  0,  0,  g,  0],\n",
      "             [0.,     0,       0,     0, -b*S2,  0,  0,  0,  b,  0,  0,  0,  g]]\n",
      "            )\n",
      "    P = [-1.,-1.,-1.,-1.]\n",
      "    Q = [-.1,-.1,-.1,-.1]\n",
      "    branches = [(0,1,0), (0,2,1), (2,3,2), (2,4,3)]\n",
      "    return Areal, Areac, P, Q, branches"
     ],
     "language": "python",
     "metadata": {},
     "outputs": [],
     "prompt_number": 5
    },
    {
     "cell_type": "code",
     "collapsed": false,
     "input": [
      "def solve(assemble):\n",
      "    Areal, Areac, P, Q, branches = assemble()\n",
      "    with Model('jabr') as M:\n",
      "        u = M.variable(\"u\", 5, Domain.greaterThan(0.0))\n",
      "        R = M.variable(\"R\", 4, Domain.greaterThan(0.0))\n",
      "        I = M.variable(\"I\", 4, Domain.unbounded())\n",
      "        \n",
      "        expr = lambda x: x.asExpr()\n",
      "        def cone_constraint(fbus, tbus, branch):    \n",
      "            x = Expr.vstack(map(expr, [u.index(fbus), u.index(tbus), R.index(branch), I.index(branch)]))\n",
      "            M.constraint(\"cone%d_%d\" % (fbus, tbus), x, Domain.inRotatedQCone())\n",
      "        \n",
      "        M.constraint(\"u0\",  u.index(0).asExpr(), Domain.equalsTo(1/S2))\n",
      "        for fbus, tbus, branch in branches:\n",
      "            cone_constraint(fbus, tbus, branch)\n",
      "\n",
      "        M.constraint(\"flow_real\", Expr.mul(Areal, Expr.vstack(u,R,I)), Domain.equalsTo(P))\n",
      "        M.constraint(\"flow_reac\", Expr.mul(Areac, Expr.vstack(u,R,I)), Domain.equalsTo(Q))\n",
      "    \n",
      "        M.objective(\"maxRsum\", ObjectiveSense.Maximize, Expr.sum(R))\n",
      "        M.solve()\n",
      "        return map(array, (u.level(), R.level(), I.level()))"
     ],
     "language": "python",
     "metadata": {},
     "outputs": [],
     "prompt_number": 167
    },
    {
     "cell_type": "code",
     "collapsed": false,
     "input": [
      "set_printoptions(precision=4, linewidth=100)\n",
      "ans = solve(assemble)\n",
      "for x in ans:\n",
      "    print(x)\n",
      "u = ans[0]\n",
      "V = (S2 * array(u))**.5\n",
      "print(V)"
     ],
     "language": "python",
     "metadata": {},
     "outputs": [
      {
       "output_type": "stream",
       "stream": "stdout",
       "text": [
        "[ 0.7071  0.6712  0.4949  0.4696  0.4554]\n",
        "[ 0.9693  0.7813  0.6743  0.664 ]\n",
        "[ 0.099  0.299  0.101  0.099]\n",
        "[ 1.      0.9743  0.8366  0.815   0.8025]"
       ]
      },
      {
       "output_type": "stream",
       "stream": "stdout",
       "text": [
        "\n"
       ]
      }
     ],
     "prompt_number": 168
    }
   ],
   "metadata": {}
  }
 ]
}