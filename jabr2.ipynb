{
 "metadata": {
  "name": ""
 },
 "nbformat": 3,
 "nbformat_minor": 0,
 "worksheets": [
  {
   "cells": [
    {
     "cell_type": "code",
     "collapsed": false,
     "input": [
      "from loadcase import load_case\n",
      "from numpy import set_printoptions, array\n",
      "import jabr"
     ],
     "language": "python",
     "metadata": {},
     "outputs": [],
     "prompt_number": 1
    },
    {
     "cell_type": "code",
     "collapsed": false,
     "input": [
      "set_printoptions(precision=1, linewidth=100)\n",
      "def disp_case(c):\n",
      "    print(c.branch_list)\n",
      "    print(c.i2e)\n",
      "    print(c.demands)\n",
      "    print(c.B.todense())"
     ],
     "language": "python",
     "metadata": {},
     "outputs": [],
     "prompt_number": 2
    },
    {
     "cell_type": "code",
     "collapsed": false,
     "input": [
      "c = load_case('cases/case5_with_q.m')\n",
      "disp_case(c)"
     ],
     "language": "python",
     "metadata": {},
     "outputs": [
      {
       "output_type": "stream",
       "stream": "stdout",
       "text": [
        "[(0, 2), (0, 3), (1, 3), (3, 4)]\n",
        "[5, 1, 2, 3, 4]\n",
        "[0j, (1+0.1j), (1+0.1j), (1+0.1j), (1+0.1j)]\n",
        "[[ 0.   0.  -9.9 -9.9  0. ]\n",
        " [ 0.   0.   0.  -10.   0. ]\n",
        " [-9.9  0.   0.   0.   0. ]\n",
        " [-9.9 -10.   0.   0.  -9.9]\n",
        " [ 0.   0.   0.  -9.9  0. ]]\n"
       ]
      }
     ],
     "prompt_number": 4
    },
    {
     "cell_type": "code",
     "collapsed": false,
     "input": [
      "vars(c).keys()"
     ],
     "language": "python",
     "metadata": {},
     "outputs": [
      {
       "metadata": {},
       "output_type": "pyout",
       "prompt_number": 5,
       "text": [
        "['B', 'G', 'demands', 'vhat', 'branch_list', 'branch_map', 'i2e']"
       ]
      }
     ],
     "prompt_number": 5
    },
    {
     "cell_type": "code",
     "collapsed": false,
     "input": [
      "c = load_case('cases/case9_tree.m')\n",
      "disp_case(c)"
     ],
     "language": "python",
     "metadata": {},
     "outputs": [
      {
       "output_type": "stream",
       "stream": "stdout",
       "text": [
        "[(0, 3), (1, 7), (2, 5), (3, 4), (3, 8), (4, 5), (6, 7), (7, 8)]\n",
        "[1, 2, 3, 4, 5, 6, 7, 8, 9]\n",
        "[0j, (-163-82.5j), (-85-23.7825j), 0j, (90+30j), 0j, (100+35j), 0j, (125+50j)]\n",
        "[[    0.      0.      0.  -1736.1     0.      0.      0.      0.      0. ]\n",
        " [    0.      0.      0.      0.      0.      0.      0.  -1600.      0. ]\n",
        " [    0.      0.      0.      0.      0.  -1706.5     0.      0.      0. ]\n",
        " [-1736.1     0.      0.      0.  -1051.1     0.      0.      0.  -1160.4]\n",
        " [    0.      0.      0.  -1051.1     0.   -558.8     0.      0.      0. ]\n",
        " [    0.      0.  -1706.5     0.   -558.8     0.      0.      0.      0. ]\n",
        " [    0.      0.      0.      0.      0.      0.      0.  -1369.8     0. ]\n",
        " [    0.  -1600.      0.      0.      0.      0.  -1369.8     0.   -597.5]\n",
        " [    0.      0.      0.  -1160.4     0.      0.      0.   -597.5     0. ]]\n"
       ]
      }
     ],
     "prompt_number": 7
    },
    {
     "cell_type": "code",
     "collapsed": false,
     "input": [
      "real, reac = jabr.build_U_matrices(c.G, c.B) #, c.branch_map)"
     ],
     "language": "python",
     "metadata": {},
     "outputs": [],
     "prompt_number": 8
    },
    {
     "cell_type": "code",
     "collapsed": false,
     "input": [
      "set_printoptions(precision=1, linewidth=100)\n",
      "real, reac"
     ],
     "language": "python",
     "metadata": {},
     "outputs": [
      {
       "metadata": {},
       "output_type": "pyout",
       "prompt_number": 9,
       "text": [
        "(<8x9 sparse matrix of type '<type 'numpy.float64'>'\n",
        "\twith 6 stored elements in Dictionary Of Keys format>,\n",
        " <8x9 sparse matrix of type '<type 'numpy.float64'>'\n",
        "\twith 8 stored elements in Dictionary Of Keys format>)"
       ]
      }
     ],
     "prompt_number": 9
    },
    {
     "cell_type": "markdown",
     "metadata": {},
     "source": [
      "#Stuff0"
     ]
    },
    {
     "cell_type": "markdown",
     "metadata": {},
     "source": [
      "**YOU HAVE CPLEX NOW** (and gurobi for that matter)"
     ]
    },
    {
     "cell_type": "code",
     "collapsed": false,
     "input": [
      "from jabr import *\n",
      "from loadcase import load_case, load_branches\n",
      "from scipy.sparse import vstack\n",
      "from numpy import set_printoptions, array"
     ],
     "language": "python",
     "metadata": {},
     "outputs": [],
     "prompt_number": 10
    },
    {
     "cell_type": "code",
     "collapsed": false,
     "input": [
      "#c = load_case('case118_v2.m')\n",
      "c = load_case('cases/case85_Q.m')\n",
      "u, R, I = build_mosek_model(c)\n",
      "Vhat = recover_original_variables(u, R, I)\n",
      "set_printoptions(precision=4, linewidth=100)\n",
      "print(Vhat)"
     ],
     "language": "python",
     "metadata": {},
     "outputs": [
      {
       "ename": "SolutionError",
       "evalue": "mosek failed to converge: PRIMAL_INFEASIBLE_CER (check log)",
       "output_type": "pyerr",
       "traceback": [
        "\u001b[0;31m---------------------------------------------------------------------------\u001b[0m\n\u001b[0;31mSolutionError\u001b[0m                             Traceback (most recent call last)",
        "\u001b[0;32m<ipython-input-12-9136c4d101bc>\u001b[0m in \u001b[0;36m<module>\u001b[0;34m()\u001b[0m\n\u001b[1;32m      1\u001b[0m \u001b[0;31m#c = load_case('case118_v2.m')\u001b[0m\u001b[0;34m\u001b[0m\u001b[0;34m\u001b[0m\u001b[0m\n\u001b[1;32m      2\u001b[0m \u001b[0mc\u001b[0m \u001b[0;34m=\u001b[0m \u001b[0mload_case\u001b[0m\u001b[0;34m(\u001b[0m\u001b[0;34m'cases/case85_Q.m'\u001b[0m\u001b[0;34m)\u001b[0m\u001b[0;34m\u001b[0m\u001b[0m\n\u001b[0;32m----> 3\u001b[0;31m \u001b[0mu\u001b[0m\u001b[0;34m,\u001b[0m \u001b[0mR\u001b[0m\u001b[0;34m,\u001b[0m \u001b[0mI\u001b[0m \u001b[0;34m=\u001b[0m \u001b[0mbuild_mosek_model\u001b[0m\u001b[0;34m(\u001b[0m\u001b[0mc\u001b[0m\u001b[0;34m)\u001b[0m\u001b[0;34m\u001b[0m\u001b[0m\n\u001b[0m\u001b[1;32m      4\u001b[0m \u001b[0mVhat\u001b[0m \u001b[0;34m=\u001b[0m \u001b[0mrecover_original_variables\u001b[0m\u001b[0;34m(\u001b[0m\u001b[0mu\u001b[0m\u001b[0;34m,\u001b[0m \u001b[0mR\u001b[0m\u001b[0;34m,\u001b[0m \u001b[0mI\u001b[0m\u001b[0;34m)\u001b[0m\u001b[0;34m\u001b[0m\u001b[0m\n\u001b[1;32m      5\u001b[0m \u001b[0mset_printoptions\u001b[0m\u001b[0;34m(\u001b[0m\u001b[0mprecision\u001b[0m\u001b[0;34m=\u001b[0m\u001b[0;36m4\u001b[0m\u001b[0;34m,\u001b[0m \u001b[0mlinewidth\u001b[0m\u001b[0;34m=\u001b[0m\u001b[0;36m100\u001b[0m\u001b[0;34m)\u001b[0m\u001b[0;34m\u001b[0m\u001b[0m\n",
        "\u001b[0;32m/Users/srharnett/Dropbox/power/jabr-power-flow/jabr.pyc\u001b[0m in \u001b[0;36mbuild_mosek_model\u001b[0;34m(case)\u001b[0m\n\u001b[1;32m    201\u001b[0m             \u001b[0mproblem_status\u001b[0m\u001b[0;34m,\u001b[0m \u001b[0msolution_status\u001b[0m\u001b[0;34m,\u001b[0m \u001b[0mu\u001b[0m\u001b[0;34m,\u001b[0m \u001b[0mR\u001b[0m\u001b[0;34m,\u001b[0m \u001b[0mI\u001b[0m \u001b[0;34m=\u001b[0m \u001b[0mparse_mosek_output_file\u001b[0m\u001b[0;34m(\u001b[0m\u001b[0mfilename\u001b[0m\u001b[0;34m)\u001b[0m\u001b[0;34m\u001b[0m\u001b[0m\n\u001b[1;32m    202\u001b[0m             \u001b[0;32mif\u001b[0m \u001b[0msolution_status\u001b[0m \u001b[0;32mnot\u001b[0m \u001b[0;32min\u001b[0m \u001b[0;34m(\u001b[0m\u001b[0;34m'OPTIMAL'\u001b[0m\u001b[0;34m,\u001b[0m \u001b[0;34m'NEAR_OPTIMAL'\u001b[0m\u001b[0;34m)\u001b[0m\u001b[0;34m:\u001b[0m\u001b[0;34m\u001b[0m\u001b[0m\n\u001b[0;32m--> 203\u001b[0;31m                 \u001b[0;32mraise\u001b[0m \u001b[0mSolutionError\u001b[0m\u001b[0;34m(\u001b[0m\u001b[0;34m\"mosek failed to converge: %s (check log)\"\u001b[0m \u001b[0;34m%\u001b[0m \u001b[0msolution_status\u001b[0m\u001b[0;34m)\u001b[0m\u001b[0;34m\u001b[0m\u001b[0m\n\u001b[0m\u001b[1;32m    204\u001b[0m             \u001b[0;32mreturn\u001b[0m \u001b[0mu\u001b[0m\u001b[0;34m,\u001b[0m \u001b[0mR\u001b[0m\u001b[0;34m,\u001b[0m \u001b[0mI\u001b[0m\u001b[0;34m\u001b[0m\u001b[0m\n\u001b[1;32m    205\u001b[0m \u001b[0;34m\u001b[0m\u001b[0m\n",
        "\u001b[0;31mSolutionError\u001b[0m: mosek failed to converge: PRIMAL_INFEASIBLE_CER (check log)"
       ]
      }
     ],
     "prompt_number": 12
    },
    {
     "cell_type": "code",
     "collapsed": false,
     "input": [
      "!tail -n60 mosek.log"
     ],
     "language": "python",
     "metadata": {},
     "outputs": [
      {
       "output_type": "stream",
       "stream": "stdout",
       "text": [
        "Python thinks it didn't converge, trying again from command line\r\n",
        "\r\n",
        "return code 22, whatever that means\r\n",
        "\r\n",
        "2014-04-28 07:20:10.238304\r\n",
        "Open file 'mosek.opf'\r\n",
        "Start writing.\r\n",
        "done writing. Time: 0.01\r\n",
        "\r\n",
        "Computer\r\n",
        "  Platform               : MACOSX/64-X86   \r\n",
        "  Cores                  : 4               \r\n",
        "\r\n",
        "Problem\r\n",
        "  Name                   : jabr85          \r\n",
        "  Objective sense        : max             \r\n",
        "  Type                   : CONIC (conic optimization problem)\r\n",
        "  Constraints            : 505             \r\n",
        "  Cones                  : 84              \r\n",
        "  Scalar variables       : 589             \r\n",
        "  Matrix variables       : 0               \r\n",
        "  Integer variables      : 0               \r\n",
        "\r\n",
        "Optimizer started.\r\n",
        "Conic interior-point optimizer started.\r\n",
        "Presolve started.\r\n",
        "Linear dependency checker started.\r\n",
        "Linear dependency checker terminated.\r\n",
        "Eliminator - tries                  : 0                 time                   : 0.00            \r\n",
        "Eliminator - elim's                 : 0               \r\n",
        "Lin. dep.  - tries                  : 1                 time                   : 0.00            \r\n",
        "Lin. dep.  - number                 : 0               \r\n",
        "Presolve terminated. Time: 0.01    \r\n",
        "Optimizer  - threads                : 4               \r\n",
        "Optimizer  - solved problem         : the primal      \r\n",
        "Optimizer  - Constraints            : 251\r\n",
        "Optimizer  - Cones                  : 84\r\n",
        "Optimizer  - Scalar variables       : 336               conic                  : 336             \r\n",
        "Optimizer  - Semi-definite variables: 0                 scalarized             : 0               \r\n",
        "Factor     - setup time             : 0.01              dense det. time        : 0.00            \r\n",
        "Factor     - ML order time          : 0.00              GP order time          : 0.00            \r\n",
        "Factor     - nonzeros before factor : 1273              after factor           : 1273            \r\n",
        "Factor     - dense dim.             : 0                 flops                  : 2.26e+04        \r\n",
        "ITE PFEAS    DFEAS    GFEAS    PRSTATUS   POBJ              DOBJ              MU       TIME  \r\n",
        "0   7.5e+00  1.0e+00  1.0e+00  0.00e+00   0.000000000e+00   0.000000000e+00   1.0e+00  0.03  \r\n",
        "1   2.0e+00  2.6e-01  2.6e-01  -1.00e+00  1.419277570e+03   1.396009811e+03   2.6e-01  0.03  \r\n",
        "2   6.2e-01  8.2e-02  8.2e-02  -1.03e+00  5.733636216e+03   5.637568111e+03   8.2e-02  0.03  \r\n",
        "3   3.0e-01  4.0e-02  4.0e-02  -1.08e+00  1.229706902e+04   1.207695690e+04   4.0e-02  0.04  \r\n",
        "4   9.9e-02  1.3e-02  1.3e-02  -1.09e+00  3.820206859e+04   3.745292440e+04   1.3e-02  0.04  \r\n",
        "5   4.4e-02  5.8e-03  5.8e-03  -1.10e+00  8.696523160e+04   8.509202706e+04   5.8e-03  0.04  \r\n",
        "6   1.1e-02  1.5e-03  1.5e-03  -1.13e+00  3.574654094e+05   3.485399085e+05   1.5e-03  0.04  \r\n",
        "7   4.5e-03  5.9e-04  5.9e-04  -1.29e+00  1.018169007e+06   9.851613699e+05   5.9e-04  0.04  \r\n",
        "8   1.7e-03  2.2e-04  2.2e-04  -1.62e+00  2.402743456e+06   2.232111883e+06   2.2e-04  0.04  \r\n",
        "9   2.3e-04  3.0e-05  3.0e-05  -1.46e+00  1.201769407e+06   3.201253579e+04   3.0e-05  0.04  \r\n",
        "10  1.1e-05  1.5e-06  1.5e-06  -1.04e+00  1.216760850e+06   -2.245256696e+07  1.5e-06  0.04  \r\n",
        "11  5.7e-07  7.6e-08  7.6e-08  -1.00e+00  1.216789445e+06   -4.726630212e+08  7.6e-08  0.04  \r\n",
        "12  6.1e-11  6.5e-12  3.5e-07  -1.00e+00  1.459248661e-06   -2.586477218e+00  8.2e-12  0.04  \r\n",
        "Interior-point optimizer terminated. Time: 0.04. \r\n",
        "\r\n",
        "Optimizer terminated. Time: 0.08    \r\n"
       ]
      }
     ],
     "prompt_number": 13
    },
    {
     "cell_type": "markdown",
     "metadata": {},
     "source": [
      "#Stuff"
     ]
    },
    {
     "cell_type": "code",
     "collapsed": false,
     "input": [
      "from mosek.fusion import DenseMatrix, Model, Domain, Expr, ObjectiveSense"
     ],
     "language": "python",
     "metadata": {},
     "outputs": [],
     "prompt_number": 14
    },
    {
     "cell_type": "code",
     "collapsed": false,
     "input": [
      "r, x = .01, .1\n",
      "g, b = jabr.z2y(r, x)\n",
      "S2 = 2**.5"
     ],
     "language": "python",
     "metadata": {},
     "outputs": [],
     "prompt_number": 15
    },
    {
     "cell_type": "raw",
     "metadata": {},
     "source": [
      "    Areal = DenseMatrix(\n",
      "            [[0.,  g*S2,       0,     0,     0, -g,  0,  0,  0, -b,  0,  0,  0],\n",
      "             [0.,     0,  3*g*S2,     0,     0,  0, -g, -g, -g,  0, -b,  b,  b],\n",
      "             [0.,     0,       0,  g*S2,     0,  0,  0, -g,  0,  0,  0, -b,  0],\n",
      "             [0.,     0,       0,     0,  g*S2,  0,  0,  0, -g,  0,  0,  0, -b]]\n",
      "            )\n",
      "    Areac = DenseMatrix(\n",
      "            [[0., -b*S2,       0,     0,     0,  b,  0,  0,  0, -g,  0,  0,  0],\n",
      "             [0.,     0, -3*b*S2,     0,     0,  0,  b,  b,  b,  0, -g,  g,  g],\n",
      "             [0.,     0,       0, -b*S2,     0,  0,  0,  b,  0,  0,  0, -g,  0],\n",
      "             [0.,     0,       0,     0, -b*S2,  0,  0,  0,  b,  0,  0,  0, -g]]"
     ]
    },
    {
     "cell_type": "code",
     "collapsed": false,
     "input": [
      "def assemble():\n",
      "    Areal = DenseMatrix(\n",
      "            [[0.,  g*S2,       0,     0,     0, -g,  0,  0,  0,  b,  0,  0,  0],\n",
      "             [0.,     0,  3*g*S2,     0,     0,  0, -g, -g, -g,  0,  b, -b, -b],\n",
      "             [0.,     0,       0,  g*S2,     0,  0,  0, -g,  0,  0,  0,  b,  0],\n",
      "             [0.,     0,       0,     0,  g*S2,  0,  0,  0, -g,  0,  0,  0,  b]]\n",
      "            )\n",
      "    Areac = DenseMatrix(\n",
      "            [[0., -b*S2,       0,     0,     0,  b,  0,  0,  0,  g,  0,  0,  0],\n",
      "             [0.,     0, -3*b*S2,     0,     0,  0,  b,  b,  b,  0,  g, -g, -g],\n",
      "             [0.,     0,       0, -b*S2,     0,  0,  0,  b,  0,  0,  0,  g,  0],\n",
      "             [0.,     0,       0,     0, -b*S2,  0,  0,  0,  b,  0,  0,  0,  g]]\n",
      "            )\n",
      "    P = [-1.,-1.,-1.,-1.]\n",
      "    Q = [-.1,-.1,-.1,-.1]\n",
      "    branches = [(0,1,0), (0,2,1), (2,3,2), (2,4,3)]\n",
      "    return Areal, Areac, P, Q, branches"
     ],
     "language": "python",
     "metadata": {},
     "outputs": [],
     "prompt_number": 16
    },
    {
     "cell_type": "code",
     "collapsed": false,
     "input": [
      "def solve(assemble):\n",
      "    Areal, Areac, P, Q, branches = assemble()\n",
      "    with Model('jabr') as M:\n",
      "        u = M.variable(\"u\", 5, Domain.greaterThan(0.0))\n",
      "        R = M.variable(\"R\", 4, Domain.greaterThan(0.0))\n",
      "        I = M.variable(\"I\", 4, Domain.unbounded())\n",
      "        \n",
      "        expr = lambda x: x.asExpr()\n",
      "        def cone_constraint(fbus, tbus, branch):    \n",
      "            x = Expr.vstack(map(expr, [u.index(fbus), u.index(tbus), R.index(branch), I.index(branch)]))\n",
      "            M.constraint(\"cone%d_%d\" % (fbus, tbus), x, Domain.inRotatedQCone())\n",
      "        \n",
      "        M.constraint(\"u0\",  u.index(0).asExpr(), Domain.equalsTo(1/S2))\n",
      "        for fbus, tbus, branch in branches:\n",
      "            cone_constraint(fbus, tbus, branch)\n",
      "\n",
      "        M.constraint(\"flow_real\", Expr.mul(Areal, Expr.vstack(u,R,I)), Domain.equalsTo(P))\n",
      "        M.constraint(\"flow_reac\", Expr.mul(Areac, Expr.vstack(u,R,I)), Domain.equalsTo(Q))\n",
      "    \n",
      "        M.objective(\"maxRsum\", ObjectiveSense.Maximize, Expr.sum(R))\n",
      "        M.solve()\n",
      "        return map(array, (u.level(), R.level(), I.level()))"
     ],
     "language": "python",
     "metadata": {},
     "outputs": [],
     "prompt_number": 17
    },
    {
     "cell_type": "code",
     "collapsed": false,
     "input": [
      "set_printoptions(precision=4, linewidth=100)\n",
      "ans = solve(assemble)\n",
      "for x in ans:\n",
      "    print(x)\n",
      "u = ans[0]\n",
      "V = (S2 * array(u))**.5\n",
      "print(V)"
     ],
     "language": "python",
     "metadata": {},
     "outputs": [
      {
       "output_type": "stream",
       "stream": "stdout",
       "text": [
        "[ 0.7071  0.6712  0.4725  0.4324  0.4324]\n",
        "[ 0.9693  0.7616  0.6315  0.6315]\n",
        "[ 0.099  0.297  0.099  0.099]\n",
        "[ 1.      0.9743  0.8175  0.782   0.782 ]\n"
       ]
      }
     ],
     "prompt_number": 18
    },
    {
     "cell_type": "code",
     "collapsed": false,
     "input": [],
     "language": "python",
     "metadata": {},
     "outputs": []
    }
   ],
   "metadata": {}
  }
 ]
}